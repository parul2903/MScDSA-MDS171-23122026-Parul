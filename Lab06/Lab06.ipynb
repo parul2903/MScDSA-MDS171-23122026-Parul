{
 "cells": [
  {
   "cell_type": "markdown",
   "metadata": {},
   "source": [
    "**VOWEL COUNTER**"
   ]
  },
  {
   "cell_type": "markdown",
   "metadata": {},
   "source": [
    "**This function calculates the count of each vowel in the string provided by the user. Also, it returns the total number of vowels and its percentage in the vowels. A**"
   ]
  },
  {
   "cell_type": "code",
   "execution_count": 25,
   "metadata": {},
   "outputs": [],
   "source": [
    "# vowel_input = input(\"Enter any string: \")\n",
    "def vowel_counter(vowel_input):\n",
    "\n",
    "    vowels = [\"a\", \"e\", \"i\", \"o\", \"u\"]\n",
    "    # list showing the vowels in a string\n",
    "    fin_vowels = [] \n",
    "\n",
    "    # the loop helps to print the count of each vowel and the total count of vowels\n",
    "    for vowel in vowels:\n",
    "        count = 0 \n",
    "        for i in vowel_input.strip():\n",
    "            if vowel==i or vowel.upper() == i:\n",
    "                fin_vowels.append(vowel)\n",
    "                count += 1\n",
    "\n",
    "        print(\"The vowel \" + vowel + \" is present in the string for \" + str(count) + \" times.\")\n",
    "    percentage = (len(fin_vowels)/len(vowel_input))*100\n",
    "    print(\"\\nThe list containing final vowels is\", set(fin_vowels))\n",
    "    print(\"\\n\")\n",
    "    print(\"The percentage of vowels in the string is\", percentage)\n",
    "    print(\"\\n\")\n",
    "    print(\"The total number of vowels in the string is\", len(fin_vowels))\n",
    "\n",
    "    # return fin_vowels, len(fin_vowels), percentage"
   ]
  },
  {
   "cell_type": "code",
   "execution_count": 26,
   "metadata": {},
   "outputs": [
    {
     "name": "stdout",
     "output_type": "stream",
     "text": [
      "The vowel a is present in the string for 2 times.\n",
      "The vowel e is present in the string for 2 times.\n",
      "The vowel i is present in the string for 2 times.\n",
      "The vowel o is present in the string for 0 times.\n",
      "The vowel u is present in the string for 2 times.\n",
      "\n",
      "The list containing final vowels is {'e', 'i', 'a', 'u'}\n",
      "\n",
      "\n",
      "The percentage of vowels in the string is 27.586206896551722\n",
      "\n",
      "\n",
      "The total number of vowels in the string is 8\n"
     ]
    }
   ],
   "source": [
    "vowel_counter(\"Caring,Helpful, Understanding\")"
   ]
  },
  {
   "cell_type": "code",
   "execution_count": 27,
   "metadata": {},
   "outputs": [
    {
     "name": "stdout",
     "output_type": "stream",
     "text": [
      "The vowel a is present in the string for 1 times.\n",
      "The vowel e is present in the string for 1 times.\n",
      "The vowel i is present in the string for 1 times.\n",
      "The vowel o is present in the string for 1 times.\n",
      "The vowel u is present in the string for 1 times.\n",
      "\n",
      "The list containing final vowels is {'a', 'u', 'e', 'i', 'o'}\n",
      "\n",
      "\n",
      "The percentage of vowels in the string is 50.0\n",
      "\n",
      "\n",
      "The total number of vowels in the string is 5\n"
     ]
    }
   ],
   "source": [
    "vowel_counter(\"Absentious\")"
   ]
  },
  {
   "cell_type": "code",
   "execution_count": 28,
   "metadata": {},
   "outputs": [
    {
     "name": "stdout",
     "output_type": "stream",
     "text": [
      "The vowel a is present in the string for 0 times.\n",
      "The vowel e is present in the string for 1 times.\n",
      "The vowel i is present in the string for 2 times.\n",
      "The vowel o is present in the string for 1 times.\n",
      "The vowel u is present in the string for 1 times.\n",
      "\n",
      "The list containing final vowels is {'e', 'i', 'o', 'u'}\n",
      "\n",
      "\n",
      "The percentage of vowels in the string is 55.55555555555556\n",
      "\n",
      "\n",
      "The total number of vowels in the string is 5\n"
     ]
    }
   ],
   "source": [
    "vowel_counter(\"Delicious\")"
   ]
  },
  {
   "cell_type": "code",
   "execution_count": null,
   "metadata": {},
   "outputs": [],
   "source": []
  }
 ],
 "metadata": {
  "kernelspec": {
   "display_name": "Python 3",
   "language": "python",
   "name": "python3"
  },
  "language_info": {
   "codemirror_mode": {
    "name": "ipython",
    "version": 3
   },
   "file_extension": ".py",
   "mimetype": "text/x-python",
   "name": "python",
   "nbconvert_exporter": "python",
   "pygments_lexer": "ipython3",
   "version": "3.9.13"
  },
  "orig_nbformat": 4
 },
 "nbformat": 4,
 "nbformat_minor": 2
}
