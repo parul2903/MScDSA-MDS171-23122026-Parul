{
 "cells": [
  {
   "cell_type": "code",
   "execution_count": 1,
   "metadata": {},
   "outputs": [],
   "source": [
    "# Creating lists of items, quantity and unit price for 10 items\n",
    "\n",
    "list_items = [\"CC cream\", \"Nail Paint\", \"Lipstics\", \"Concealer\", \"Primer\", \"Lotion\", \"Sunscreen\", \"Moisturizer\"]\n",
    "list_quantity = [2,3,4,6,1,4,3,6,2,4] \n",
    "list_unit_price = [235,540,342,654,600,750,215,400,420,520]"
   ]
  },
  {
   "cell_type": "code",
   "execution_count": 8,
   "metadata": {},
   "outputs": [],
   "source": [
    "# Creating a csv file \n",
    "import random\n",
    "file_name = \"23122026.csv\"\n",
    "\n",
    "file = open(file_name, \"a+\")\n",
    "file.write(f\"item,quantity,unit_price\\n\")\n",
    "file.close()"
   ]
  },
  {
   "cell_type": "code",
   "execution_count": 9,
   "metadata": {},
   "outputs": [],
   "source": [
    "# Adding random values of item, quantity and unit price to the csv file using random library\n",
    "\n",
    "for i in range(0,100):\n",
    "    ran_value = random.randint(0,7)\n",
    "    file = open(file_name, \"a+\")\n",
    "    file.write(f\"{list_items[ran_value]},{list_quantity[ran_value]},{list_unit_price[ran_value]}\\n\")\n",
    "    file.close()"
   ]
  },
  {
   "cell_type": "markdown",
   "metadata": {},
   "source": [
    "**CALCULATING THE TOTAL COST FOR EACH ROW**"
   ]
  },
  {
   "cell_type": "code",
   "execution_count": 12,
   "metadata": {},
   "outputs": [],
   "source": [
    "# DATA ANALYSIS\n",
    "# function for calculating costs\n",
    "\n",
    "total_costs = []\n",
    "\n",
    "\n",
    "def total_cost(filename):\n",
    "    with open(filename, 'r') as file:\n",
    "        next(file) \n",
    "        for line in file:\n",
    "            item, quantity, price = line.strip().split(',')\n",
    "            total_cost = float(quantity) * float(price)\n",
    "            total_costs.append(total_cost)\n",
    "\n",
    "    print(\"Total cost for the first 5 rows:\")\n",
    "    for i in range(5):\n",
    "        print(f\"Row {i + 1}: {total_costs[i]:.2f}\")\n",
    "\n",
    "    print(\"\\nTotal cost for the last 10 rows:\")\n",
    "    for i in range(-10, 0):\n",
    "        print(f\"Row {100 + i + 1}: {total_costs[i]:.2f}\")"
   ]
  },
  {
   "cell_type": "code",
   "execution_count": 14,
   "metadata": {},
   "outputs": [
    {
     "name": "stdout",
     "output_type": "stream",
     "text": [
      "Total cost for the first 5 rows:\n",
      "Row 1: 600.00\n",
      "Row 2: 3000.00\n",
      "Row 3: 645.00\n",
      "Row 4: 3924.00\n",
      "Row 5: 470.00\n",
      "\n",
      "Total cost for the last 10 rows:\n",
      "Row 91: 1368.00\n",
      "Row 92: 3924.00\n",
      "Row 93: 645.00\n",
      "Row 94: 1620.00\n",
      "Row 95: 3000.00\n",
      "Row 96: 2400.00\n",
      "Row 97: 3924.00\n",
      "Row 98: 470.00\n",
      "Row 99: 3000.00\n",
      "Row 100: 600.00\n"
     ]
    }
   ],
   "source": [
    "# calling the above function\n",
    "\n",
    "filename = \"23122026.csv\"\n",
    "total_cost(filename)"
   ]
  },
  {
   "cell_type": "code",
   "execution_count": 45,
   "metadata": {},
   "outputs": [],
   "source": [
    "# function defining total cost for unique items\n",
    "\n",
    "item_totals = {}\n",
    "\n",
    "def unique_item_price(filename):\n",
    "    with open(filename, 'r') as file:\n",
    "        next(file)  \n",
    "        for line in file:\n",
    "            item, quantity, price = line.strip().split(',')\n",
    "            total_cost = float(quantity) * float(price)\n",
    "            if item in item_totals:\n",
    "                item_totals[item] += total_cost\n",
    "            else:\n",
    "                item_totals[item] = total_cost\n",
    "\n",
    "    print(\"\\nItem Name | Total Quantity | Total\")\n",
    "    for item, total_cost in item_totals.items():\n",
    "        total_quantity = sum(quantity[i] for i in range(0,100) if list_items[i] == item)\n",
    "        print(f\"{item} | {total_quantity} | {total_cost:.2f}\")\n",
    "        "
   ]
  },
  {
   "cell_type": "code",
   "execution_count": 31,
   "metadata": {},
   "outputs": [
    {
     "data": {
      "text/plain": [
       "{'Primer': 7800.0,\n",
       " 'Lotion': 39000.0,\n",
       " 'Sunscreen': 9030.0,\n",
       " 'Concealer': 62784.0,\n",
       " 'CC cream': 5640.0,\n",
       " 'Moisturizer': 36000.0,\n",
       " 'Nail Paint': 6480.0,\n",
       " 'Lipstics': 17784.0}"
      ]
     },
     "execution_count": 31,
     "metadata": {},
     "output_type": "execute_result"
    }
   ],
   "source": [
    "item_totals"
   ]
  },
  {
   "cell_type": "code",
   "execution_count": 44,
   "metadata": {},
   "outputs": [
    {
     "name": "stdout",
     "output_type": "stream",
     "text": [
      "\n",
      "Minimum and Maximum Price for Each Item Sold:\n",
      "************************************************************\n",
      "CC cream-- Min Price: 235.00, Max Price: 235.00\n",
      "\n",
      "Nail Paint-- Min Price: 540.00, Max Price: 540.00\n",
      "\n",
      "Lipstics-- Min Price: 342.00, Max Price: 342.00\n",
      "\n",
      "Concealer-- Min Price: 654.00, Max Price: 654.00\n",
      "\n",
      "Primer-- Min Price: 600.00, Max Price: 600.00\n",
      "\n",
      "Lotion-- Min Price: 750.00, Max Price: 750.00\n",
      "\n",
      "Sunscreen-- Min Price: 215.00, Max Price: 215.00\n",
      "\n",
      "Moisturizer-- Min Price: 400.00, Max Price: 400.00\n",
      "\n"
     ]
    }
   ],
   "source": [
    "# minimum and maximum price for each item sold\n",
    "\n",
    "print(\"\\nMinimum and Maximum Price for Each Item Sold:\")\n",
    "print(\"**\"*30)\n",
    "for item in list_items:\n",
    "    item_prices = [float(list_unit_price[i]) for i in range(8) if list_items[i] == item]\n",
    "    if item_prices:\n",
    "        min_price = min(item_prices)\n",
    "        max_price = max(item_prices)\n",
    "        print(f\"{item}-- Min Price: {min_price:.2f}, Max Price: {max_price:.2f}\\n\")\n"
   ]
  },
  {
   "cell_type": "code",
   "execution_count": null,
   "metadata": {},
   "outputs": [],
   "source": []
  }
 ],
 "metadata": {
  "kernelspec": {
   "display_name": "Python 3",
   "language": "python",
   "name": "python3"
  },
  "language_info": {
   "codemirror_mode": {
    "name": "ipython",
    "version": 3
   },
   "file_extension": ".py",
   "mimetype": "text/x-python",
   "name": "python",
   "nbconvert_exporter": "python",
   "pygments_lexer": "ipython3",
   "version": "3.9.12"
  },
  "orig_nbformat": 4
 },
 "nbformat": 4,
 "nbformat_minor": 2
}
