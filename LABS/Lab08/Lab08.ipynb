{
 "cells": [
  {
   "cell_type": "markdown",
   "metadata": {},
   "source": [
    "**MATRIX MULTIPLICATION**"
   ]
  },
  {
   "cell_type": "code",
   "execution_count": 93,
   "metadata": {},
   "outputs": [],
   "source": [
    "# This function collects the basic information of the matrix\n",
    "# no. of rows, no. of columns and the values in each row\n",
    "# It returns the matrix dictionary\n",
    "\n",
    "def input_matrix():\n",
    "    \n",
    "    final_matrix = []\n",
    "    r = int(input(\"Enter the number of rows: \"))\n",
    "    c = int(input(\"Enter the number of columns: \"))\n",
    "\n",
    "    for row in range(0, r):\n",
    "        row_values = []\n",
    "        for column in range(0, c):\n",
    "            row_values.append(int(input(\"Enter the values row-wise: \")))\n",
    "        final_matrix.append(row_values)\n",
    "    return final_matrix\n",
    "\n",
    "##\n",
    "\n",
    "final_dict = {}\n",
    "result_matrix = []\n",
    "\n",
    "def multiply_matrix(matrix1, matrix2):\n",
    "    if len(matrix1[0]) != len(matrix2):\n",
    "        raise ValueError(\"Matrix dimensions are incompatible for multiplication\")\n",
    "    \n",
    "    for i in range(len(matrix1)):\n",
    "        row = []\n",
    "        for j in range(len(matrix2[0])):\n",
    "            dot_product = sum(matrix1[i][k] * matrix2[k][j] for k in range(len(matrix2)))\n",
    "            row.append(dot_product)\n",
    "        result_matrix.append(row)\n",
    "\n",
    "    final_dict[\"matrix1\"] = matrix1\n",
    "    final_dict[\"matrix2\"] = matrix2\n",
    "    final_dict[\"result_matrix\"] = result_matrix\n",
    "\n",
    "    return final_dict\n",
    "\n",
    "# Ths function will store the result in a file\n",
    "\n",
    "def display_result(result_matrix, filename):\n",
    "    with open(filename, 'a+') as file:\n",
    "        for row in result_matrix:\n",
    "            print(' '.join(map(str, row)))  "
   ]
  },
  {
   "cell_type": "markdown",
   "metadata": {},
   "source": [
    "**3 TEST CASES**"
   ]
  },
  {
   "cell_type": "code",
   "execution_count": 69,
   "metadata": {},
   "outputs": [],
   "source": [
    "# TEST CASE 1\n",
    "\n",
    "matrix1 = input_matrix()\n",
    "matrix2 = input_matrix()"
   ]
  },
  {
   "cell_type": "code",
   "execution_count": 70,
   "metadata": {},
   "outputs": [
    {
     "data": {
      "text/plain": [
       "([[1, 2, 3], [4, 5, 6]], [[1, 2], [3, 4], [5, 6]])"
      ]
     },
     "execution_count": 70,
     "metadata": {},
     "output_type": "execute_result"
    }
   ],
   "source": [
    "matrix1, matrix2"
   ]
  },
  {
   "cell_type": "code",
   "execution_count": 71,
   "metadata": {},
   "outputs": [
    {
     "data": {
      "text/plain": [
       "{'matrix1': [[1, 2, 3], [4, 5, 6]],\n",
       " 'matrix2': [[1, 2], [3, 4], [5, 6]],\n",
       " 'result_matrix': [[22, 28], [49, 64]]}"
      ]
     },
     "execution_count": 71,
     "metadata": {},
     "output_type": "execute_result"
    }
   ],
   "source": [
    "multiply_matrix(matrix1, matrix2)"
   ]
  },
  {
   "cell_type": "code",
   "execution_count": 72,
   "metadata": {},
   "outputs": [
    {
     "name": "stdout",
     "output_type": "stream",
     "text": [
      "22 28\n",
      "49 64\n"
     ]
    }
   ],
   "source": [
    "display_result(result_matrix)"
   ]
  },
  {
   "cell_type": "code",
   "execution_count": 77,
   "metadata": {},
   "outputs": [],
   "source": [
    "# TEST CASES 2 AND 3\n",
    "\n",
    "matrix3 = input_matrix()\n",
    "matrix4 = input_matrix()\n",
    "matrix5 = input_matrix()\n",
    "matrix6 = input_matrix()"
   ]
  },
  {
   "cell_type": "code",
   "execution_count": 78,
   "metadata": {},
   "outputs": [
    {
     "data": {
      "text/plain": [
       "([[1, 2, 3, 4], [5, 6, 1, 2], [3, 4, 5, 6]], [[1], [2], [4], [3]])"
      ]
     },
     "execution_count": 78,
     "metadata": {},
     "output_type": "execute_result"
    }
   ],
   "source": [
    "matrix3,matrix4"
   ]
  },
  {
   "cell_type": "code",
   "execution_count": 79,
   "metadata": {},
   "outputs": [
    {
     "data": {
      "text/plain": [
       "{'matrix1': [[1, 2, 3, 4], [5, 6, 1, 2], [3, 4, 5, 6]],\n",
       " 'matrix2': [[1], [2], [4], [3]],\n",
       " 'result_matrix': [[29], [27], [49]]}"
      ]
     },
     "execution_count": 79,
     "metadata": {},
     "output_type": "execute_result"
    }
   ],
   "source": [
    "multiply_matrix(matrix3, matrix4)"
   ]
  },
  {
   "cell_type": "code",
   "execution_count": 81,
   "metadata": {},
   "outputs": [
    {
     "name": "stdout",
     "output_type": "stream",
     "text": [
      "29\n",
      "27\n",
      "49\n"
     ]
    }
   ],
   "source": [
    "display_result(result_matrix)"
   ]
  },
  {
   "cell_type": "code",
   "execution_count": 83,
   "metadata": {},
   "outputs": [
    {
     "data": {
      "text/plain": [
       "([[1], [2], [3]], [[1, 2, 3, 4, 5, 6]])"
      ]
     },
     "execution_count": 83,
     "metadata": {},
     "output_type": "execute_result"
    }
   ],
   "source": [
    "matrix5, matrix6"
   ]
  },
  {
   "cell_type": "code",
   "execution_count": 85,
   "metadata": {},
   "outputs": [
    {
     "data": {
      "text/plain": [
       "{'matrix1': [[1], [2], [3]],\n",
       " 'matrix2': [[1, 2, 3, 4, 5, 6]],\n",
       " 'result_matrix': [[1, 2, 3, 4, 5, 6],\n",
       "  [2, 4, 6, 8, 10, 12],\n",
       "  [3, 6, 9, 12, 15, 18],\n",
       "  [1, 2, 3, 4, 5, 6],\n",
       "  [2, 4, 6, 8, 10, 12],\n",
       "  [3, 6, 9, 12, 15, 18]]}"
      ]
     },
     "execution_count": 85,
     "metadata": {},
     "output_type": "execute_result"
    }
   ],
   "source": [
    "multiply_matrix(matrix5, matrix6)"
   ]
  },
  {
   "cell_type": "code",
   "execution_count": 86,
   "metadata": {},
   "outputs": [
    {
     "name": "stdout",
     "output_type": "stream",
     "text": [
      "1 2 3 4 5 6\n",
      "2 4 6 8 10 12\n",
      "3 6 9 12 15 18\n",
      "1 2 3 4 5 6\n",
      "2 4 6 8 10 12\n",
      "3 6 9 12 15 18\n"
     ]
    }
   ],
   "source": [
    "display_result(result_matrix)"
   ]
  },
  {
   "cell_type": "code",
   "execution_count": null,
   "metadata": {},
   "outputs": [],
   "source": [
    "# # This function will take two matrix as parameters and returns a  dictionary with 3 key-value pairs\n",
    "# # \"matrix1\", \"matrix2\", \"result_matrix\"\n",
    "\n",
    "# final_dict = {}\n",
    "# def multiply_matrix(matrix1, matrix2):\n",
    "\n",
    "#     mul_col1 = []\n",
    "#     mul_col2 = []\n",
    "#     for i in range(0, len(matrix1)):\n",
    "#         for j in range(0, len(matrix2)):\n",
    "#             mul_col1.append(matrix1[i][j]*matrix2[j][0])\n",
    "#             mul_col2.append(matrix1[i][j]*matrix2[j][1])\n",
    "#     #mul_col1, mul_col2\n",
    "\n",
    "#     result_matrix = []\n",
    "\n",
    "#     result_matrix.append([sum(mul_col1[:len(matrix1)+1]), sum(mul_col2[:len(matrix1)+1])])\n",
    "#     result_matrix.append([sum(mul_col1[len(matrix1)+1:]), sum(mul_col2[len(matrix1)+1:])])\n",
    "#     final_dict[\"matrix1\"] = matrix1\n",
    "#     final_dict[\"matrix2\"] = matrix2\n",
    "#     final_dict[\"reult_matrix\"] = result_matrix\n",
    "            \n",
    "#     return final_dict\n"
   ]
  },
  {
   "cell_type": "code",
   "execution_count": null,
   "metadata": {},
   "outputs": [],
   "source": []
  }
 ],
 "metadata": {
  "kernelspec": {
   "display_name": "Python 3",
   "language": "python",
   "name": "python3"
  },
  "language_info": {
   "codemirror_mode": {
    "name": "ipython",
    "version": 3
   },
   "file_extension": ".py",
   "mimetype": "text/x-python",
   "name": "python",
   "nbconvert_exporter": "python",
   "pygments_lexer": "ipython3",
   "version": "3.9.13"
  },
  "orig_nbformat": 4
 },
 "nbformat": 4,
 "nbformat_minor": 2
}
