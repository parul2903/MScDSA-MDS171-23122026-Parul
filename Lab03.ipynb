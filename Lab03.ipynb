{
 "cells": [
  {
   "cell_type": "markdown",
   "metadata": {},
   "source": [
    "**CREATING FOUR DIFFERENT FUNCTIONS TO DESCRIBE DESCRIPTIVE STATISTICS FOR THE GIVEN LIST**\n",
    "\n"
   ]
  },
  {
   "cell_type": "markdown",
   "metadata": {},
   "source": [
    "**MEAN**"
   ]
  },
  {
   "cell_type": "code",
   "execution_count": 28,
   "metadata": {},
   "outputs": [],
   "source": [
    "# calculate mean\n",
    "\n",
    "list1 = [761, 123, 585, 275, 194, 840, 999, 622, 763, 40, 825, 687, 402, 338, 611, 987, 739, 95, 819, 568, 320, 126, 688, 948, 514, 223, 751, 379, 857, 767, 492, 162, 437, 934, 430, 343, 725, 511, 580, 678, 708, 823, 346, 179, 786, 663, 195, 890, 267, 502, 214, 300, 786, 961, 235, 559, 992, 919, 948, 318, 57, 787, 653, 317, 305, 172, 966, 182, 970, 17, 89, 624, 629, 595, 485, 752, 984, 978, 460, 124, 321, 256, 614, 852, 811, 561, 127, 207, 406, 615, 888, 391, 691, 470, 911, 401, 137, 600, 478, 682]\n",
    "\n",
    "def harmony_gathering_mean(list1):\n",
    "    sum = 0\n",
    "    count = 0\n",
    "    for i in list1: \n",
    "        sum = sum + i\n",
    "        count = count + 1\n",
    "    calc_mean = sum / count\n",
    "    return calc_mean"
   ]
  },
  {
   "cell_type": "code",
   "execution_count": 29,
   "metadata": {},
   "outputs": [
    {
     "data": {
      "text/plain": [
       "542.94"
      ]
     },
     "execution_count": 29,
     "metadata": {},
     "output_type": "execute_result"
    }
   ],
   "source": [
    "harmony_gathering_mean(list1)"
   ]
  },
  {
   "cell_type": "markdown",
   "metadata": {},
   "source": [
    "**MINIMUM**"
   ]
  },
  {
   "cell_type": "code",
   "execution_count": 3,
   "metadata": {},
   "outputs": [],
   "source": [
    "# calculate minimum\n",
    "\n",
    "def harmony_gathering_min(list1):\n",
    "    min_num = list1[0]\n",
    "\n",
    "    for i in list1:\n",
    "        if min_num >= i:\n",
    "            min_num = i\n",
    "\n",
    "    return min_num"
   ]
  },
  {
   "cell_type": "code",
   "execution_count": 4,
   "metadata": {},
   "outputs": [
    {
     "data": {
      "text/plain": [
       "17"
      ]
     },
     "execution_count": 4,
     "metadata": {},
     "output_type": "execute_result"
    }
   ],
   "source": [
    "harmony_gathering_min(list1)"
   ]
  },
  {
   "cell_type": "markdown",
   "metadata": {},
   "source": [
    "**MAXIMUM**"
   ]
  },
  {
   "cell_type": "code",
   "execution_count": 5,
   "metadata": {},
   "outputs": [],
   "source": [
    "# calculate maximum\n",
    "\n",
    "def harmony_gathering_max(list1):\n",
    "    max_num = list1[0]\n",
    "\n",
    "    for i in list1:\n",
    "        if max_num <= i:\n",
    "            max_num = i\n",
    "\n",
    "    return max_num"
   ]
  },
  {
   "cell_type": "code",
   "execution_count": 6,
   "metadata": {},
   "outputs": [
    {
     "data": {
      "text/plain": [
       "999"
      ]
     },
     "execution_count": 6,
     "metadata": {},
     "output_type": "execute_result"
    }
   ],
   "source": [
    "harmony_gathering_max(list1)"
   ]
  },
  {
   "cell_type": "markdown",
   "metadata": {},
   "source": [
    "**RANGE**"
   ]
  },
  {
   "cell_type": "code",
   "execution_count": 7,
   "metadata": {},
   "outputs": [],
   "source": [
    "# calculate range\n",
    "\n",
    "def harmony_gathering_range(list1):\n",
    "\n",
    "    max_num = harmony_gathering_max(list1)\n",
    "    min_num = harmony_gathering_min(list1)\n",
    "\n",
    "    range = max_num - min_num\n",
    "\n",
    "    return range"
   ]
  },
  {
   "cell_type": "code",
   "execution_count": 8,
   "metadata": {},
   "outputs": [
    {
     "data": {
      "text/plain": [
       "982"
      ]
     },
     "execution_count": 8,
     "metadata": {},
     "output_type": "execute_result"
    }
   ],
   "source": [
    "harmony_gathering_range(list1)"
   ]
  },
  {
   "cell_type": "markdown",
   "metadata": {},
   "source": [
    "**CHECKING IF THE RESULTS MATCH WITH THE RESULTS CALCULATED USING BUILT-IN FUNCTIONS**"
   ]
  },
  {
   "cell_type": "code",
   "execution_count": 30,
   "metadata": {},
   "outputs": [],
   "source": [
    "# defining a check function\n",
    "\n",
    "import statistics\n",
    "\n",
    "def check_results(list1):\n",
    "\n",
    "    mean1 = statistics.mean(list1)\n",
    "    max1 = max(list1)\n",
    "    min1 = min(list1)\n",
    "    range1 = max1 - min1\n",
    "    \n",
    "    # mean\n",
    "    if mean1 == harmony_gathering_mean(list1):\n",
    "        print(f'The mean {mean1} is correct.')\n",
    "\n",
    "    else:\n",
    "        print(\"The mean is wrong\")\n",
    "\n",
    "    # max\n",
    "    if max1 == harmony_gathering_max(list1):\n",
    "        print(f'The max value {max1} is correct.')\n",
    "\n",
    "    else:\n",
    "        print(\"The max value is wrong\")\n",
    "\n",
    "    # min\n",
    "    if min1 == harmony_gathering_min(list1):\n",
    "        print(f'The min {min1} is correct.')\n",
    "\n",
    "    else:\n",
    "        print(\"The min is wrong\")\n",
    "\n",
    "    # range\n",
    "    if range1 == harmony_gathering_range(list1):\n",
    "        print(f'The range {range1} is correct.')\n",
    "\n",
    "    else:\n",
    "        print(\"The range is wrong\")\n"
   ]
  },
  {
   "cell_type": "code",
   "execution_count": 31,
   "metadata": {},
   "outputs": [
    {
     "name": "stdout",
     "output_type": "stream",
     "text": [
      "The mean 542.94 is correct.\n",
      "The max value 999 is correct.\n",
      "The min 17 is correct.\n",
      "The range 982 is correct.\n"
     ]
    }
   ],
   "source": [
    "check_results(list1)"
   ]
  },
  {
   "cell_type": "code",
   "execution_count": null,
   "metadata": {},
   "outputs": [],
   "source": []
  }
 ],
 "metadata": {
  "kernelspec": {
   "display_name": "Python 3",
   "language": "python",
   "name": "python3"
  },
  "language_info": {
   "codemirror_mode": {
    "name": "ipython",
    "version": 3
   },
   "file_extension": ".py",
   "mimetype": "text/x-python",
   "name": "python",
   "nbconvert_exporter": "python",
   "pygments_lexer": "ipython3",
   "version": "3.9.13"
  },
  "orig_nbformat": 4
 },
 "nbformat": 4,
 "nbformat_minor": 2
}
