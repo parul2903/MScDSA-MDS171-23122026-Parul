{
 "cells": [
  {
   "cell_type": "code",
   "execution_count": 11,
   "metadata": {},
   "outputs": [],
   "source": [
    "list_items = [\"A\", \"B\", \"C\", \"D\", \"E\", \"F\", \"G\", \"H\", \"I\", \"J\"]\n",
    "quantity = [2,3,4,6,1,4,3,6,2,4] \n",
    "price = [235,540,342,654,600,750,215,400,420,520]"
   ]
  },
  {
   "cell_type": "code",
   "execution_count": 221,
   "metadata": {},
   "outputs": [],
   "source": [
    "import random\n",
    "file_name = \"23122026.csv\"\n",
    "\n",
    "file = open(file_name, \"a+\")\n",
    "file.write(f\"item, quantity, price\\n\")\n",
    "file.close()"
   ]
  },
  {
   "cell_type": "code",
   "execution_count": 222,
   "metadata": {},
   "outputs": [],
   "source": [
    "for i in range(0,99):\n",
    "    ran_value = random.randint(0,9)\n",
    "    file = open(file_name, \"a+\")\n",
    "    file.write(f\"{item[ran_value]}, {quantity[ran_value]}, {price[ran_value]}\\n\")\n",
    "    file.close()"
   ]
  },
  {
   "cell_type": "code",
   "execution_count": 1,
   "metadata": {},
   "outputs": [],
   "source": [
    "# DATA ANALYSIS\n",
    "# function for calculating costs\n",
    "\n",
    "total_costs = []\n",
    "\n",
    "\n",
    "def total_cost(filename):\n",
    "    with open(filename, 'r') as file:\n",
    "        next(file) \n",
    "        for line in file:\n",
    "            item, quantity, price = line.strip().split(',')\n",
    "            total_cost = float(quantity) * float(price)\n",
    "            total_costs.append(total_cost)\n",
    "\n",
    "    print(\"Total cost for the first 5 rows:\")\n",
    "    for i in range(5):\n",
    "        print(f\"Row {i + 1}: {total_costs[i]:.2f}\")\n",
    "\n",
    "    print(\"\\nTotal cost for the last 10 rows:\")\n",
    "    for i in range(-10, 0):\n",
    "        print(f\"Row {100 + i + 1}: {total_costs[i]:.2f}\")"
   ]
  },
  {
   "cell_type": "code",
   "execution_count": null,
   "metadata": {},
   "outputs": [],
   "source": [
    "item_totals = {}\n",
    "\n",
    "with open('23122026.csv', 'r') as file:\n",
    "    next(file)  \n",
    "    for line in file:\n",
    "        item, quantity, price = line.strip().split(',')\n",
    "        total_cost = float(quantity) * float(price)\n",
    "        if item in item_totals:\n",
    "            item_totals[item] += total_cost\n",
    "        else:\n",
    "            item_totals[item] = total_cost\n",
    "\n",
    "print(\"\\nItem Name | Total Quantity | Total\")\n",
    "for item, total_cost in item_totals.items():\n",
    "    total_quantity = sum(quantity[i] for i in range(10) if list_items[i] == item)\n",
    "    print(f\"{item} | {total_quantity} | {total_cost:.2f}\")"
   ]
  },
  {
   "cell_type": "code",
   "execution_count": 7,
   "metadata": {},
   "outputs": [],
   "source": [
    "# function defining total cost for unique items\n",
    "\n",
    "item_totals = {}\n",
    "\n",
    "def unique_item_price(filename):\n",
    "    with open(filename, 'r') as file:\n",
    "        next(file)  \n",
    "        for line in file:\n",
    "            item, quantity, price = line.strip().split(',')\n",
    "            total_cost = float(quantity) * float(price)\n",
    "            if item in item_totals:\n",
    "                item_totals[item] += total_cost\n",
    "            else:\n",
    "                item_totals[item] = total_cost\n",
    "\n",
    "    print(\"\\nItem Name | Total Quantity | Total\")\n",
    "    for item, total_cost in item_totals.items():\n",
    "        total_quantity = sum(quantity[i] for i in range(10) if list_items[i] == item)\n",
    "        print(f\"{item} | {total_quantity} | {total_cost:.2f}\")"
   ]
  },
  {
   "cell_type": "code",
   "execution_count": 3,
   "metadata": {},
   "outputs": [
    {
     "name": "stdout",
     "output_type": "stream",
     "text": [
      "Total cost for the first 5 rows:\n",
      "Row 1: 2400.00\n",
      "Row 2: 2400.00\n",
      "Row 3: 2080.00\n",
      "Row 4: 2400.00\n",
      "Row 5: 470.00\n",
      "\n",
      "Total cost for the last 10 rows:\n",
      "Row 91: 600.00\n",
      "Row 92: 1620.00\n",
      "Row 93: 645.00\n",
      "Row 94: 645.00\n",
      "Row 95: 470.00\n",
      "Row 96: 470.00\n",
      "Row 97: 3000.00\n",
      "Row 98: 600.00\n",
      "Row 99: 600.00\n",
      "Row 100: 3924.00\n"
     ]
    }
   ],
   "source": [
    "# calling the above function\n",
    "\n",
    "filename = \"23122026.csv\"\n",
    "total_cost(filename)"
   ]
  },
  {
   "cell_type": "code",
   "execution_count": null,
   "metadata": {},
   "outputs": [],
   "source": [
    "unique_item_price(filename)"
   ]
  },
  {
   "cell_type": "code",
   "execution_count": null,
   "metadata": {},
   "outputs": [],
   "source": [
    "# minimum and maximum price for each item sold\n",
    "\n",
    "print(\"\\nMinimum and Maximum Price for Each Item Sold:\")\n",
    "for item in items:\n",
    "    item_prices = [float(list_prices[i]) for i in range(10) if list_items[i] == item]\n",
    "    if item_prices:\n",
    "        min_price = min(item_prices)\n",
    "        max_price = max(item_prices)\n",
    "        print(f\"{item}: Min Price {min_price:.2f}, Max Price {max_price:.2f}\")"
   ]
  },
  {
   "cell_type": "code",
   "execution_count": null,
   "metadata": {},
   "outputs": [],
   "source": []
  }
 ],
 "metadata": {
  "kernelspec": {
   "display_name": "Python 3",
   "language": "python",
   "name": "python3"
  },
  "language_info": {
   "codemirror_mode": {
    "name": "ipython",
    "version": 3
   },
   "file_extension": ".py",
   "mimetype": "text/x-python",
   "name": "python",
   "nbconvert_exporter": "python",
   "pygments_lexer": "ipython3",
   "version": "3.9.13"
  },
  "orig_nbformat": 4
 },
 "nbformat": 4,
 "nbformat_minor": 2
}
