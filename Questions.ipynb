{
 "cells": [
  {
   "cell_type": "markdown",
   "metadata": {},
   "source": [
    "**1) Define a function that takes a list of numbers as input and return the sum of numbers without any predefined functions.**"
   ]
  },
  {
   "cell_type": "code",
   "execution_count": 35,
   "metadata": {},
   "outputs": [],
   "source": [
    "def sum_numbers(list_numbers):\n",
    "\n",
    "    sum = 0\n",
    "    for num in range(0, len(list_numbers)):\n",
    "        sum = sum + list_numbers[num]\n",
    "\n",
    "    print(list_numbers)\n",
    "    return sum"
   ]
  },
  {
   "cell_type": "code",
   "execution_count": 36,
   "metadata": {},
   "outputs": [
    {
     "name": "stdout",
     "output_type": "stream",
     "text": [
      "[1, 2, 3, 4, 5, 6]\n"
     ]
    },
    {
     "data": {
      "text/plain": [
       "21"
      ]
     },
     "execution_count": 36,
     "metadata": {},
     "output_type": "execute_result"
    }
   ],
   "source": [
    "sum_numbers([1,2,3,4,5,6])"
   ]
  },
  {
   "cell_type": "markdown",
   "metadata": {},
   "source": [
    "**2) Take user input with comma seperated values and print their sum**"
   ]
  },
  {
   "cell_type": "code",
   "execution_count": 37,
   "metadata": {},
   "outputs": [],
   "source": [
    "def sum_numbers1():\n",
    "    numbers1 = str(input(\"Enter the numbers: \"))\n",
    "    list_numbers1 = numbers1.split(\",\")\n",
    "    sum1 = 0\n",
    "    for i in range(0, len(list_numbers1)):\n",
    "        sum1 = sum1 + int(list_numbers1[i])\n",
    "\n",
    "    print(list_numbers1)\n",
    "\n",
    "    return sum1"
   ]
  },
  {
   "cell_type": "code",
   "execution_count": 38,
   "metadata": {},
   "outputs": [
    {
     "name": "stdout",
     "output_type": "stream",
     "text": [
      "['1', '4', '5', '6']\n"
     ]
    },
    {
     "data": {
      "text/plain": [
       "16"
      ]
     },
     "execution_count": 38,
     "metadata": {},
     "output_type": "execute_result"
    }
   ],
   "source": [
    "sum_numbers1()"
   ]
  },
  {
   "cell_type": "markdown",
   "metadata": {},
   "source": [
    "**Count the number odd and even numbers in the list and print the odd numbers count and even numbers count along with the numbers(You will have a function that will take a list of numbers, then returns the count of odd numbers and even numners and the new list of odd numbers and even numbers.**"
   ]
  },
  {
   "cell_type": "code",
   "execution_count": 64,
   "metadata": {},
   "outputs": [],
   "source": [
    "def odd_even_count(list_numbers):\n",
    "    even_num = []\n",
    "    odd_num = []\n",
    "    count_even = 0\n",
    "    count_odd = 0\n",
    "    for i in range(0, len(list_numbers)):\n",
    "        if list_numbers[i]%2 == 0:\n",
    "            even_num.append(list_numbers[i])\n",
    "            count_even+=1\n",
    "\n",
    "        else:\n",
    "            odd_num.append(list_numbers[i])\n",
    "            count_odd+=1\n",
    "\n",
    "    print(\"The count of even numbers is \", count_even)\n",
    "    print(\"The even numbers list is \", even_num)\n",
    "    print(\"The count of odd numbers is \", count_odd)\n",
    "    print(\"The odd number list is \", odd_num)\n",
    "\n",
    "    return count_even, even_num, count_odd, odd_num"
   ]
  },
  {
   "cell_type": "code",
   "execution_count": 65,
   "metadata": {},
   "outputs": [
    {
     "name": "stdout",
     "output_type": "stream",
     "text": [
      "The count of even numbers is  2\n",
      "The even numbers list is  [2, 4]\n",
      "The count of odd numbers is  3\n",
      "The odd number list is  [1, 3, 5]\n"
     ]
    },
    {
     "data": {
      "text/plain": [
       "(2, [2, 4], 3, [1, 3, 5])"
      ]
     },
     "execution_count": 65,
     "metadata": {},
     "output_type": "execute_result"
    }
   ],
   "source": [
    "odd_even_count([1,2,3,4,5])"
   ]
  },
  {
   "cell_type": "code",
   "execution_count": null,
   "metadata": {},
   "outputs": [],
   "source": []
  }
 ],
 "metadata": {
  "kernelspec": {
   "display_name": "Python 3",
   "language": "python",
   "name": "python3"
  },
  "language_info": {
   "codemirror_mode": {
    "name": "ipython",
    "version": 3
   },
   "file_extension": ".py",
   "mimetype": "text/x-python",
   "name": "python",
   "nbconvert_exporter": "python",
   "pygments_lexer": "ipython3",
   "version": "3.9.13"
  },
  "orig_nbformat": 4
 },
 "nbformat": 4,
 "nbformat_minor": 2
}
