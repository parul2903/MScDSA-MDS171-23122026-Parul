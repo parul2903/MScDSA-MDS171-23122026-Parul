{
 "cells": [
  {
   "cell_type": "markdown",
   "metadata": {},
   "source": [
    "**MY MENU DRIVEN RESTAURENT**"
   ]
  },
  {
   "cell_type": "code",
   "execution_count": 2,
   "metadata": {},
   "outputs": [],
   "source": [
    "# create a menu in a nested list form\n",
    "\n",
    "menu = [[\"Tea\", 30],[\"Coffee\", 40],[\"Lemonade\", 35],[\"Iced Tea\", 30],[\"Espresso\", 40],[\"Latte\", 45],[\"Americano\", 20],[\"Mocha\", 25],[\"Cappuccino\", 30],[\"Soft Drinks\", 40]]"
   ]
  },
  {
   "cell_type": "code",
   "execution_count": 3,
   "metadata": {},
   "outputs": [
    {
     "data": {
      "text/plain": [
       "{'Tea': 1,\n",
       " 'Coffee': 2,\n",
       " 'Lemonade': 3,\n",
       " 'Iced Tea': 4,\n",
       " 'Espresso': 5,\n",
       " 'Latte': 6,\n",
       " 'Americano': 7,\n",
       " 'Mocha': 8,\n",
       " 'Cappuccino': 9,\n",
       " 'Soft Drinks': 10}"
      ]
     },
     "execution_count": 3,
     "metadata": {},
     "output_type": "execute_result"
    }
   ],
   "source": [
    "# setting up item numbers for the dishes in the menu\n",
    "\n",
    "item_number = {}\n",
    "for i in range(0, len(menu)):\n",
    "    item_number[menu[i][0]] = i+1\n",
    "\n",
    "item_number"
   ]
  },
  {
   "cell_type": "code",
   "execution_count": 4,
   "metadata": {},
   "outputs": [
    {
     "data": {
      "text/plain": [
       "{'Tea': 30,\n",
       " 'Coffee': 40,\n",
       " 'Lemonade': 35,\n",
       " 'Iced Tea': 30,\n",
       " 'Espresso': 40,\n",
       " 'Latte': 45,\n",
       " 'Americano': 20,\n",
       " 'Mocha': 25,\n",
       " 'Cappuccino': 30,\n",
       " 'Soft Drinks': 40}"
      ]
     },
     "execution_count": 4,
     "metadata": {},
     "output_type": "execute_result"
    }
   ],
   "source": [
    "# creating a menu dictionary to display in the final application\n",
    "\n",
    "menu_dict = {}\n",
    "for i in range(0, len(menu)):\n",
    "    menu_dict[menu[i][0]] = menu[i][1]\n",
    "\n",
    "menu_dict\n",
    "    "
   ]
  },
  {
   "cell_type": "code",
   "execution_count": 5,
   "metadata": {},
   "outputs": [],
   "source": [
    "# define a function for generating unique order IDs\n",
    "\n",
    "import random\n",
    "\n",
    "def gen_orderId():\n",
    "    unique_id = []\n",
    "    for i in range(5):\n",
    "        unique_id.append(str(random.randint(1,9)))\n",
    "    \n",
    "    return \"\".join(unique_id)"
   ]
  },
  {
   "cell_type": "code",
   "execution_count": 6,
   "metadata": {},
   "outputs": [
    {
     "data": {
      "text/plain": [
       "'48742'"
      ]
     },
     "execution_count": 6,
     "metadata": {},
     "output_type": "execute_result"
    }
   ],
   "source": [
    "gen_orderId()"
   ]
  },
  {
   "cell_type": "markdown",
   "metadata": {},
   "source": [
    "###### **DEFINING ALL THE FUNCTIONS**"
   ]
  },
  {
   "cell_type": "code",
   "execution_count": 9,
   "metadata": {},
   "outputs": [],
   "source": [
    "# menu driven application\n",
    "# The application consists of 3 functions\n",
    "# the first function defines: take the order \n",
    "# the second function defines: view the order and returns the details of the order\n",
    "# the third function defines: generates the bill of the order based on the order id \n",
    "\n",
    "order_details = {}\n",
    "\n",
    "def take_order():\n",
    "    ask_order = input(\"What is your order?\").title().strip().split(\",\")\n",
    "    ask_quantity = input(\"What quantity of the order you want?\").title().strip().split(\",\")\n",
    "\n",
    "    order_details[\"ORDER_ID\"] = gen_orderId()\n",
    "    order_details[\"ITEMS\"] = []\n",
    "\n",
    "    for i in range(0, len(ask_order)):\n",
    "        item_details = {}\n",
    "        item_details[\"itemnumber\"] = item_number[ask_order[i]]\n",
    "        item_details[\"quantity\"] = ask_quantity[i]\n",
    "        order_details[\"ITEMS\"].append(item_details)\n",
    "\n",
    "    print(f'Order taken successfully with order id {order_details[\"ORDER_ID\"]}')\n",
    "    print(\"*\"*200)\n",
    "\n",
    "def gen_bill():\n",
    "    quantity_list = []\n",
    "    price_list = []\n",
    "    total_bill = []\n",
    "    for i in order_details[\"ITEMS\"]:\n",
    "        quantity_list.append(int(i[\"quantity\"]))\n",
    "\n",
    "    for i in range(0, len(order_details[\"ITEMS\"])):\n",
    "        price_list.append(list(menu_dict.values())[order_details[\"ITEMS\"][i][\"itemnumber\"]-1])\n",
    "\n",
    "    for i in range(0, len(price_list)):\n",
    "        total_bill.append(price_list[i]*quantity_list[i])\n",
    "\n",
    "    print(f'The total bill for the order with id {order_details[\"ORDER_ID\"]} is Rs. {sum(total_bill)}')  \n",
    "    print(\"*\"*200)\n",
    "\n",
    "def view_order():\n",
    "    ask_orderId = input(\"Enter the order id: \")\n",
    "\n",
    "    if order_details[\"ORDER_ID\"] == ask_orderId:\n",
    "        print(order_details)\n",
    "        print(\"*\"*200)\n",
    "    \n",
    "    else:\n",
    "        print(\"This order id is not valid.\")\n"
   ]
  },
  {
   "cell_type": "markdown",
   "metadata": {},
   "source": [
    "###### **THE MAIN CODE STARTS FROM HERE**"
   ]
  },
  {
   "cell_type": "code",
   "execution_count": 11,
   "metadata": {},
   "outputs": [
    {
     "name": "stdout",
     "output_type": "stream",
     "text": [
      "WELCOME TO CULINARY HAVEN\n",
      "**************************************************\n",
      "Please choose the order from the following menu:\n",
      " {'Tea': 30, 'Coffee': 40, 'Lemonade': 35, 'Iced Tea': 30, 'Espresso': 40, 'Latte': 45, 'Americano': 20, 'Mocha': 25, 'Cappuccino': 30, 'Soft Drinks': 40}\n",
      "********************************************************************************************************************************************************************************************************\n",
      "Please make a choice\n",
      "\n",
      "1) Choose 1 for giving the order\n",
      "2) Choose 2 for viewing the order based on the order id\n",
      "3) Choose 3 for generating bill based on the order id\n",
      "4) Choose 4 to exit.\n",
      "********************************************************************************************************************************************************************************************************\n",
      "You have entered choice:  1\n",
      "Order taken successfully with order id 46965\n",
      "********************************************************************************************************************************************************************************************************\n",
      "You have entered choice:  2\n",
      "{'ORDER_ID': '46965', 'ITEMS': [{'itemnumber': 3, 'quantity': '3'}, {'itemnumber': 5, 'quantity': '6'}, {'itemnumber': 8, 'quantity': '2'}]}\n",
      "********************************************************************************************************************************************************************************************************\n",
      "You have entered choice:  3\n",
      "The total bill for the order with id 46965 is Rs. 395\n",
      "********************************************************************************************************************************************************************************************************\n",
      "You have entered choice:  4\n"
     ]
    }
   ],
   "source": [
    "print(\"WELCOME TO CULINARY HAVEN\")\n",
    "print(\"*\"*50)\n",
    "print(\"Please choose the order from the following menu:\\n\", menu_dict)\n",
    "print(\"*\"*200)\n",
    "print(\"Please make a choice\\n\")\n",
    "print(\"1) Choose 1 for giving the order\\n2) Choose 2 for viewing the order based on the order id\\n3) Choose 3 for generating bill based on the order id\\n4) Choose 4 to exit.\")\n",
    "print(\"*\"*200)\n",
    "\n",
    "while True:\n",
    "\n",
    "    choice = input(\"Enter your choice: \")\n",
    "    print(\"You have entered choice: \", choice)\n",
    "\n",
    "    if int(choice) == 1:\n",
    "        take_order()\n",
    "\n",
    "    elif int(choice) == 2:\n",
    "        view_order()\n",
    "\n",
    "    elif int(choice) == 3:\n",
    "        ask_orderId = input(\"Enter the order id: \")\n",
    "        gen_bill()\n",
    "\n",
    "    elif int(choice) == 4:\n",
    "        break\n",
    "\n",
    "    else:\n",
    "        print(\"Invalid option..!\")\n"
   ]
  },
  {
   "cell_type": "code",
   "execution_count": 12,
   "metadata": {},
   "outputs": [],
   "source": [
    "# Save the order details in a csv file\n",
    "\n",
    "def orders_file():\n",
    "    pass"
   ]
  },
  {
   "cell_type": "code",
   "execution_count": null,
   "metadata": {},
   "outputs": [],
   "source": []
  }
 ],
 "metadata": {
  "kernelspec": {
   "display_name": "Python 3",
   "language": "python",
   "name": "python3"
  },
  "language_info": {
   "codemirror_mode": {
    "name": "ipython",
    "version": 3
   },
   "file_extension": ".py",
   "mimetype": "text/x-python",
   "name": "python",
   "nbconvert_exporter": "python",
   "pygments_lexer": "ipython3",
   "version": "3.9.13"
  },
  "orig_nbformat": 4
 },
 "nbformat": 4,
 "nbformat_minor": 2
}
