{
 "cells": [
  {
   "attachments": {},
   "cell_type": "markdown",
   "metadata": {},
   "source": [
    " **Write a program to print your name and push the changes to github**"
   ]
  },
  {
   "cell_type": "code",
   "execution_count": 1,
   "metadata": {},
   "outputs": [],
   "source": [
    "name = \"Parul Sharma\""
   ]
  },
  {
   "cell_type": "code",
   "execution_count": 2,
   "metadata": {},
   "outputs": [
    {
     "name": "stdout",
     "output_type": "stream",
     "text": [
      "Parul Sharma\n"
     ]
    }
   ],
   "source": [
    "print(name)"
   ]
  },
  {
   "cell_type": "markdown",
   "metadata": {},
   "source": [
    "##### **LOOPS**\n",
    "\n",
    "1) for loop\n",
    "2) while loop"
   ]
  },
  {
   "cell_type": "code",
   "execution_count": null,
   "metadata": {},
   "outputs": [],
   "source": [
    "# printing characters of string \n",
    "\n",
    "for x in \"This is a string\":\n",
    "    print(x)"
   ]
  },
  {
   "cell_type": "code",
   "execution_count": 17,
   "metadata": {},
   "outputs": [
    {
     "name": "stdout",
     "output_type": "stream",
     "text": [
      "64\n",
      "This is a string \n",
      "This will go in new line \tprovide a tab space\n"
     ]
    }
   ],
   "source": [
    "# len and strip, \\n and \\t\n",
    "\n",
    "msg = \" This is a string \\nThis will go in new line \\tprovide a tab space\"\n",
    "#print(msg)\n",
    "print(len(msg))\n",
    "print(msg.strip())"
   ]
  },
  {
   "cell_type": "code",
   "execution_count": 6,
   "metadata": {},
   "outputs": [
    {
     "name": "stdout",
     "output_type": "stream",
     "text": [
      "0\n",
      "2\n",
      "4\n",
      "6\n",
      "8\n"
     ]
    }
   ],
   "source": [
    "# range function\n",
    "\n",
    "for i in range(0,10,2):\n",
    "    print(i)"
   ]
  },
  {
   "cell_type": "markdown",
   "metadata": {},
   "source": [
    "##### **LISTS**"
   ]
  },
  {
   "cell_type": "code",
   "execution_count": 14,
   "metadata": {},
   "outputs": [
    {
     "name": "stdout",
     "output_type": "stream",
     "text": [
      "['a', 'b', 'c', 1, 2, 3]\n",
      "<class 'list'>\n"
     ]
    }
   ],
   "source": [
    "listex = [\"a\", \"b\", \"c\", 1,2,3]\n",
    "print(listex)\n",
    "print(type(listex))"
   ]
  },
  {
   "cell_type": "code",
   "execution_count": 12,
   "metadata": {},
   "outputs": [
    {
     "name": "stdout",
     "output_type": "stream",
     "text": [
      "a\n",
      "b\n",
      "c\n",
      "1\n",
      "2\n",
      "3\n",
      "The 4th element of the list is 1\n"
     ]
    }
   ],
   "source": [
    "for i in listex:\n",
    "    print(i)\n",
    "\n",
    "print(\"The 4th element of the list is\", listex[3])"
   ]
  },
  {
   "cell_type": "markdown",
   "metadata": {},
   "source": [
    "##### **STRING METHODS**"
   ]
  },
  {
   "cell_type": "code",
   "execution_count": 7,
   "metadata": {},
   "outputs": [
    {
     "name": "stdout",
     "output_type": "stream",
     "text": [
      "['Thi', ' i', ' a ', 'tring']\n"
     ]
    }
   ],
   "source": [
    "# split\n",
    "\n",
    "a = \"This is a string\"\n",
    "a.split(\" \")\n",
    "print(a.split(\"s\"))"
   ]
  },
  {
   "cell_type": "code",
   "execution_count": 9,
   "metadata": {},
   "outputs": [
    {
     "name": "stdout",
     "output_type": "stream",
     "text": [
      "THIS IS A STRING\n",
      "this is a string\n",
      "tHIS IS A STRING\n"
     ]
    }
   ],
   "source": [
    "# upper, lower and swapcase\n",
    "\n",
    "print(a.upper())\n",
    "print(a.lower())\n",
    "print(a.swapcase())"
   ]
  },
  {
   "cell_type": "code",
   "execution_count": 11,
   "metadata": {},
   "outputs": [
    {
     "name": "stdout",
     "output_type": "stream",
     "text": [
      "hello\n",
      "thisisastring\n",
      "llo\n",
      "hellothisisastring\n",
      "hellothisisastring\n"
     ]
    }
   ],
   "source": [
    "# indexing and slicing\n",
    "\n",
    "b = \"hellothisisastring\"\n",
    "print(b[:5])\n",
    "print(b[5:])\n",
    "print(b[2:5])\n",
    "print(b[0:])\n",
    "print(b[:])"
   ]
  },
  {
   "cell_type": "code",
   "execution_count": 14,
   "metadata": {},
   "outputs": [
    {
     "name": "stdout",
     "output_type": "stream",
     "text": [
      "My name is PS and my class is DS\n"
     ]
    }
   ],
   "source": [
    "# format\n",
    "\n",
    "name = input(\"Enter your name: \")\n",
    "class1 = input(\"Enter your class: \")\n",
    "\n",
    "print(\"My name is {} and my class is {}\".format(name, class1))"
   ]
  },
  {
   "cell_type": "code",
   "execution_count": null,
   "metadata": {},
   "outputs": [],
   "source": []
  }
 ],
 "metadata": {
  "kernelspec": {
   "display_name": "Python 3",
   "language": "python",
   "name": "python3"
  },
  "language_info": {
   "codemirror_mode": {
    "name": "ipython",
    "version": 3
   },
   "file_extension": ".py",
   "mimetype": "text/x-python",
   "name": "python",
   "nbconvert_exporter": "python",
   "pygments_lexer": "ipython3",
   "version": "3.9.13"
  },
  "orig_nbformat": 4,
  "vscode": {
   "interpreter": {
    "hash": "ae7dd64629c140dcf3385fa686da60d52ed0225814cc73ae7e1ef1ef2bc45265"
   }
  }
 },
 "nbformat": 4,
 "nbformat_minor": 2
}
