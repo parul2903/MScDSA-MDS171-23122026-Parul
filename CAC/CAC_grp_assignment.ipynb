{
 "cells": [
  {
   "cell_type": "markdown",
   "metadata": {},
   "source": [
    "**CREATING DATA**\n",
    "\n",
    "**The data consists of 50 rows and 6 columns, namely, IndividualID, Chromosome, Position, Reference Base, Variation Base and Genotype**"
   ]
  },
  {
   "cell_type": "code",
   "execution_count": 1,
   "metadata": {},
   "outputs": [],
   "source": [
    "# generating random genomics data\n",
    "# assuming the length of the chromosome to be 2.5 million base pairs\n",
    "\n",
    "import random\n",
    "\n",
    "genomics_data = []\n",
    "dna_types = [\"A\",\"T\",\"C\",\"G\"]\n",
    "\n",
    "def generate_genomics_data():\n",
    "  for i in range(0, 50):\n",
    "    genomics_data.append({\"IndividualID\" : random.randint(1,50), \n",
    "                            \"Chromosome\" : random.randint(1,22), \n",
    "                            \"Position\" : random.randint(1,2500000), \n",
    "                            \"ReferenceBase\" : random.choice(dna_types), \n",
    "                            \"VariationBase\" : random.choice(dna_types)\n",
    "                          })\n",
    "\n",
    "  for i in range(0,50):\n",
    "    genomics_data[i][\"Genotype\"] = genomics_data[i][\"ReferenceBase\"] + genomics_data[i][\"VariationBase\"]\n",
    "\n",
    "  return genomics_data"
   ]
  },
  {
   "cell_type": "code",
   "execution_count": 2,
   "metadata": {},
   "outputs": [
    {
     "data": {
      "text/plain": [
       "[{'IndividualID': 11,\n",
       "  'Chromosome': 17,\n",
       "  'Position': 1751975,\n",
       "  'ReferenceBase': 'C',\n",
       "  'VariationBase': 'A',\n",
       "  'Genotype': 'CA'},\n",
       " {'IndividualID': 43,\n",
       "  'Chromosome': 19,\n",
       "  'Position': 499808,\n",
       "  'ReferenceBase': 'T',\n",
       "  'VariationBase': 'A',\n",
       "  'Genotype': 'TA'}]"
      ]
     },
     "execution_count": 2,
     "metadata": {},
     "output_type": "execute_result"
    }
   ],
   "source": [
    "generate_genomics_data()[:2]"
   ]
  },
  {
   "cell_type": "markdown",
   "metadata": {},
   "source": [
    "**There can be various insights that can be performed on the above genomics dataset but here we are going to focus on few of them:**\n",
    "\n",
    "**1) Comparing Reference Base and Variation Base: this specifies the variation in gene as compared to the reference. We will calculate the percentage of people who have the alleles and the percentage of people who have different alleles based on the given randomly generated dataset**\n",
    "\n",
    "**2) Calculating Genetic Density**\n",
    "\n",
    "**These insights can be used to determine the genetic diversity among different individuals which can be further be used to detect diseases based on the these genes differences.**"
   ]
  },
  {
   "cell_type": "code",
   "execution_count": 7,
   "metadata": {},
   "outputs": [],
   "source": [
    "homo_allele = []\n",
    "hetero_allele = []\n",
    "\n",
    "def compare_ref_var(data):\n",
    "    for i in range(0, len(data)):\n",
    "        if data[i][\"ReferenceBase\"] != data[i][\"VariationBase\"]:\n",
    "            hetero_allele.append(data[i][\"Genotype\"])\n",
    "            #print(f'The genotype {genomics_data[i][\"Genotype\"]} is a Heterozygous alleles.')\n",
    "\n",
    "        else:\n",
    "            homo_allele.append(data[i][\"Genotype\"])\n",
    "            #print(f'The genotype {genomics_data[i][\"Genotype\"]} is a Homozygous allele.')\n",
    "\n",
    "    return hetero_allele, homo_allele"
   ]
  },
  {
   "cell_type": "code",
   "execution_count": 9,
   "metadata": {},
   "outputs": [],
   "source": [
    "# compare_ref_var: This fucntion will compare the values of reference base and variation base\n",
    "# It returns a list of homozygous alleles and heterozygous alleles\n",
    "\n",
    "homo_allele = []\n",
    "hetero_allele = []\n",
    "\n",
    "def compare_ref_var(data):\n",
    "    for i in range(0, len(data)):\n",
    "        if data[i][\"ReferenceBase\"] != data[i][\"VariationBase\"]:\n",
    "            hetero_allele.append(data[i][\"Genotype\"])\n",
    "            #print(f'The genotype {genomics_data[i][\"Genotype\"]} is a Heterozygous alleles.')\n",
    "\n",
    "        else:\n",
    "            homo_allele.append(data[i][\"Genotype\"])\n",
    "            #print(f'The genotype {genomics_data[i][\"Genotype\"]} is a Homozygous allele.')\n",
    "\n",
    "    return hetero_allele, homo_allele\n",
    "\n",
    "def calc_percentage(homo_list, hetero_list): \n",
    "    percentage_homo = (len(homo_list)/(len(homo_list) + len(hetero_list))) * 100\n",
    "    percentage_hetero = (len(hetero_list)/(len(homo_list) + len(hetero_list))) * 100\n",
    "\n",
    "    return percentage_homo, percentage_hetero\n",
    "\n",
    "chromosome_variant_counts = {}\n",
    "chromosome_lengths = {\n",
    "    1: 249250621,\n",
    "    2: 243199373,\n",
    "    3: 198022430,\n",
    "    5: 180857866,\n",
    "    7: 159345973\n",
    "}\n",
    "\n",
    "\n",
    "def genetic_density(data):\n",
    "\n",
    "# Calculate variant counts per chromosome\n",
    "    for entry in genomics_data:\n",
    "        chromosome = entry['Chromosome']\n",
    "        if chromosome not in chromosome_variant_counts:\n",
    "            chromosome_variant_counts[chromosome] = 0\n",
    "        chromosome_variant_counts[chromosome] += 1\n",
    "\n",
    "    for chromosome, variant_count in chromosome_variant_counts.items():\n",
    "        chromosome_length = chromosome_lengths.get(chromosome, 1)  # Default to 1 if length is unknown\n",
    "        genetic_density = variant_count / chromosome_length\n",
    "        print(f\"Chromosome {chromosome}: Genetic Density = {genetic_density:.6f} variants/base pair\")\n"
   ]
  },
  {
   "cell_type": "code",
   "execution_count": 10,
   "metadata": {},
   "outputs": [
    {
     "data": {
      "text/plain": [
       "(['CA',\n",
       "  'TA',\n",
       "  'TA',\n",
       "  'TG',\n",
       "  'AC',\n",
       "  'GC',\n",
       "  'AT',\n",
       "  'CT',\n",
       "  'GA',\n",
       "  'TA',\n",
       "  'GA',\n",
       "  'GT',\n",
       "  'CA',\n",
       "  'GA',\n",
       "  'AG',\n",
       "  'TC',\n",
       "  'GC',\n",
       "  'GA',\n",
       "  'GT',\n",
       "  'GC',\n",
       "  'AG',\n",
       "  'TA',\n",
       "  'AC',\n",
       "  'AT',\n",
       "  'TG',\n",
       "  'AT',\n",
       "  'GT',\n",
       "  'AC',\n",
       "  'AT',\n",
       "  'GC',\n",
       "  'AC',\n",
       "  'AG',\n",
       "  'CG',\n",
       "  'TA',\n",
       "  'AC',\n",
       "  'CT',\n",
       "  'TG',\n",
       "  'GC',\n",
       "  'CA'],\n",
       " ['CC', 'AA', 'AA', 'TT', 'TT', 'CC', 'CC', 'TT', 'AA', 'AA', 'CC'])"
      ]
     },
     "execution_count": 10,
     "metadata": {},
     "output_type": "execute_result"
    }
   ],
   "source": [
    "compare_ref_var(genomics_data)"
   ]
  },
  {
   "cell_type": "code",
   "execution_count": 11,
   "metadata": {},
   "outputs": [
    {
     "name": "stdout",
     "output_type": "stream",
     "text": [
      "Chromosome 17: Genetic Density = 2.000000 variants/base pair\n",
      "Chromosome 19: Genetic Density = 2.000000 variants/base pair\n",
      "Chromosome 1: Genetic Density = 0.000000 variants/base pair\n",
      "Chromosome 22: Genetic Density = 2.000000 variants/base pair\n",
      "Chromosome 3: Genetic Density = 0.000000 variants/base pair\n",
      "Chromosome 7: Genetic Density = 0.000000 variants/base pair\n",
      "Chromosome 14: Genetic Density = 2.000000 variants/base pair\n",
      "Chromosome 18: Genetic Density = 3.000000 variants/base pair\n",
      "Chromosome 5: Genetic Density = 0.000000 variants/base pair\n",
      "Chromosome 4: Genetic Density = 3.000000 variants/base pair\n",
      "Chromosome 12: Genetic Density = 1.000000 variants/base pair\n",
      "Chromosome 21: Genetic Density = 4.000000 variants/base pair\n",
      "Chromosome 8: Genetic Density = 3.000000 variants/base pair\n",
      "Chromosome 10: Genetic Density = 4.000000 variants/base pair\n",
      "Chromosome 13: Genetic Density = 2.000000 variants/base pair\n",
      "Chromosome 9: Genetic Density = 1.000000 variants/base pair\n",
      "Chromosome 16: Genetic Density = 1.000000 variants/base pair\n",
      "Chromosome 6: Genetic Density = 1.000000 variants/base pair\n",
      "Chromosome 15: Genetic Density = 2.000000 variants/base pair\n",
      "Chromosome 2: Genetic Density = 0.000000 variants/base pair\n",
      "Chromosome 20: Genetic Density = 1.000000 variants/base pair\n",
      "Chromosome 11: Genetic Density = 1.000000 variants/base pair\n"
     ]
    }
   ],
   "source": [
    "genetic_density(genomics_data)"
   ]
  },
  {
   "cell_type": "code",
   "execution_count": 12,
   "metadata": {},
   "outputs": [
    {
     "data": {
      "text/plain": [
       "{17: 2,\n",
       " 19: 2,\n",
       " 1: 6,\n",
       " 22: 2,\n",
       " 3: 2,\n",
       " 7: 4,\n",
       " 14: 2,\n",
       " 18: 3,\n",
       " 5: 1,\n",
       " 4: 3,\n",
       " 12: 1,\n",
       " 21: 4,\n",
       " 8: 3,\n",
       " 10: 4,\n",
       " 13: 2,\n",
       " 9: 1,\n",
       " 16: 1,\n",
       " 6: 1,\n",
       " 15: 2,\n",
       " 2: 2,\n",
       " 20: 1,\n",
       " 11: 1}"
      ]
     },
     "execution_count": 12,
     "metadata": {},
     "output_type": "execute_result"
    }
   ],
   "source": [
    "chromosome_variant_counts"
   ]
  },
  {
   "cell_type": "markdown",
   "metadata": {},
   "source": [
    "**We can also the percentage of each type of dna molecules present in a dna sequence**\n",
    "\n",
    "**Here, we will try to generate a random data which shows dna sequences of the above 50 individuals. Using this data, we can calculate the percentage of \"A\", \"G\", \"C\", \"T\" in a particular individual**"
   ]
  },
  {
   "cell_type": "code",
   "execution_count": 8,
   "metadata": {},
   "outputs": [],
   "source": [
    "# defining a function to generate random dna sequence\n",
    "\n",
    "def generate_dna_sequence(length):\n",
    "     neuclotides = [\"A\", \"G\", \"C\", \"T\"]\n",
    "     ran_seq = []\n",
    "\n",
    "     for i in range(length):\n",
    "          ran_seq.append(random.choice(neuclotides))\n",
    "\n",
    "     ran_seq = ''.join(ran_seq)\n",
    "     return ran_seq\n"
   ]
  },
  {
   "cell_type": "code",
   "execution_count": 9,
   "metadata": {},
   "outputs": [],
   "source": [
    "ran_seq = generate_dna_sequence(10)"
   ]
  },
  {
   "cell_type": "code",
   "execution_count": 10,
   "metadata": {},
   "outputs": [
    {
     "data": {
      "text/plain": [
       "'AGATAGGTCA'"
      ]
     },
     "execution_count": 10,
     "metadata": {},
     "output_type": "execute_result"
    }
   ],
   "source": [
    "ran_seq"
   ]
  },
  {
   "cell_type": "code",
   "execution_count": 11,
   "metadata": {},
   "outputs": [],
   "source": [
    "# calculating the percentage of each of neuclotides present in a particular dna sequence\n",
    "# defining a function which calculates GC content\n",
    "\n",
    "def gc_content(random_sequence):\n",
    "\n",
    "    count_a = 0\n",
    "    count_c = 0\n",
    "    count_g = 0\n",
    "    count_t = 0\n",
    "\n",
    "\n",
    "    for i in random_sequence:\n",
    "        if i == \"A\":\n",
    "            count_a += 1\n",
    "        elif i == \"C\":\n",
    "            count_c += 1\n",
    "        elif i == \"G\":\n",
    "            count_g += 1\n",
    "        elif i == \"T\":\n",
    "            count_t += 1\n",
    "\n",
    "    percent_a = (count_a/len(random_sequence))*100\n",
    "    percent_c = (count_c/len(random_sequence))*100\n",
    "    percent_g = (count_g/len(random_sequence))*100\n",
    "    percent_t = (count_t/len(random_sequence))*100\n",
    "\n",
    "    print(f'Percentage of A: {percent_a}\\nPercentage of C: {percent_c}\\nPercentage of G: {percent_g}\\nPercentage of T: {percent_c}')"
   ]
  },
  {
   "cell_type": "code",
   "execution_count": 12,
   "metadata": {},
   "outputs": [
    {
     "name": "stdout",
     "output_type": "stream",
     "text": [
      "Percentage of A: 40.0\n",
      "Percentage of C: 10.0\n",
      "Percentage of G: 30.0\n",
      "Percentage of T: 10.0\n"
     ]
    }
   ],
   "source": [
    "gc_content(ran_seq)"
   ]
  },
  {
   "cell_type": "code",
   "execution_count": null,
   "metadata": {},
   "outputs": [],
   "source": [
    "# The main program starts from here \n",
    "\n",
    "print(\"WELCOME TO THE GENOMICS DATA ANALYSIS PROGRAM\")\n",
    "print(\"*\"*100)\n",
    "print(\"Make a choice to proceed further\")\n",
    "print(\"1) Enter 1: To generate the random genomics data\\n2) Enter 2: To perform analysis on the randomly generated data:\\n\\ta) Enter a: To compare the reference base and variation base in the data\\n\\tb) Enter b: To calculate the percentage of homozygous alleles and heterozygous alleles\\n\\tc) Enter c: To calculate the gentic density\\n3) Enter 3: To genrate random dna sequences\\n\\ta) Enter a: To calculate the percentage of each of the neuclotides present in the sequence\")\n",
    "print(\"*\"*100)\n",
    "while True:\n",
    "    choice = int(input(\"Enter the specific choice to proceed further: \"))\n",
    "    if choice == 1:\n",
    "        print(\"The data contains details about 50 individuals. The details include: IndividualId, Chromosome, Position, Reference Base, Variation Base, Genotype.\\nHere we only display the data of the first 5 individuals for the refenrece.\")\n",
    "        print(generate_genomics_data()[:5])\n",
    "\n",
    "    elif choice == 2:\n",
    "        compare_ref_var(genomics_data)\n",
    "        \n",
    "    elif choice == 3:\n",
    "        calc_percentage(homo_allele, hetero_allele)\n",
    "    \n",
    "    elif choice == 4:\n",
    "        genetic_density()\n",
    "    \n",
    "    elif choice == 4:\n",
    "        print(\"This is a randomly generated dna sequence data just for the analysis purpose\")\n",
    "        if choice == 1:\n",
    "            gc_content()\n",
    "\n",
    "    elif choice == 5:\n",
    "        exit()\n",
    "        break"
   ]
  },
  {
   "cell_type": "code",
   "execution_count": null,
   "metadata": {},
   "outputs": [],
   "source": []
  }
 ],
 "metadata": {
  "kernelspec": {
   "display_name": "Python 3",
   "language": "python",
   "name": "python3"
  },
  "language_info": {
   "codemirror_mode": {
    "name": "ipython",
    "version": 3
   },
   "file_extension": ".py",
   "mimetype": "text/x-python",
   "name": "python",
   "nbconvert_exporter": "python",
   "pygments_lexer": "ipython3",
   "version": "3.9.13"
  },
  "orig_nbformat": 4
 },
 "nbformat": 4,
 "nbformat_minor": 2
}
