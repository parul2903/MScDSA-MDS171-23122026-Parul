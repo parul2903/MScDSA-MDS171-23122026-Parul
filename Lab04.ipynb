{
 "cells": [
  {
   "cell_type": "markdown",
   "metadata": {},
   "source": [
    "**A Taste of Success: The Restaurant Management System**"
   ]
  },
  {
   "cell_type": "markdown",
   "metadata": {},
   "source": [
    "**INSIGHT: This function will create a file which shows the order details and will help to determine an average sales based on per order bill.**"
   ]
  },
  {
   "cell_type": "code",
   "execution_count": 113,
   "metadata": {},
   "outputs": [],
   "source": [
    "order_file = open(\"order_file1\", \"w+\")\n",
    "order_file.write(\"DATE\\t\\t\\t\\t ORDER\\t\\t\\t\\t TOTAL BILL\\n\")\n",
    "order_file.close()\n",
    "# order_file.write(f\"{date}\\t{order}\\t\\t\\t {total_bill}\")\n",
    "\n",
    "def order_details(date, order, total_bill):\n",
    "\n",
    "    order_file = open(\"order_file1\", \"a+\")\n",
    "    # order_file.write(\"DATE\\t\\t\\t\\t ORDER\\t\\t\\t\\t TOTAL BILL\\n\")\n",
    "    order_file.write(f\"{date}\\t{order}\\t\\t\\t {total_bill}\\n\")\n",
    "\n",
    "    order_file.close()"
   ]
  },
  {
   "cell_type": "code",
   "execution_count": 114,
   "metadata": {},
   "outputs": [],
   "source": [
    "order_details(\"04-09-2023\", \"2 pizzas and 1 burger\", 1500)\n",
    "order_details(\"04-09-2023\", \"2 pizzas and 1 pasta\", 1350)\n",
    "order_details(\"04-09-2023\", \"1 pizza and 1 burger\", 1400)\n",
    "order_details(\"04-09-2023\", \"3 pizzas and 4 burgers\", 2000)\n",
    "order_details(\"04-09-2023\", \"2 pizzas and 2 burgers\", 1700)"
   ]
  },
  {
   "cell_type": "markdown",
   "metadata": {},
   "source": [
    "**INSIGHT: This function will create a file which shows data of orders for a day and will help to determine total number of orders made in a day.**\n",
    "\n",
    "**Total number of orders can help in determining the sales made in a day which can further help in calculating the profit or loss made per day.**"
   ]
  },
  {
   "cell_type": "code",
   "execution_count": 111,
   "metadata": {},
   "outputs": [],
   "source": [
    "order_file = open(\"per_day_file\", \"a+\")\n",
    "order_file.write(\"DATE\\t\\t\\t\\t ORDER\\t\\t\\t\\t TOTAL BILL\\n\")\n",
    "order_file.close()\n",
    "\n",
    "def rms_perDay(date, total_orders, total):\n",
    "\n",
    "    per_day_file = open(\"per_day_file\", \"a+\")\n",
    "    # per_day_file.write(f\"DATE\\t TOTAL_ORDERS\\t TOTAL\\n\")\n",
    "    per_day_file.write(f\"{date}\\t\\t\\t\\t{total_orders}\\t\\t\\t {total}\\n\")\n",
    "\n",
    "    per_day_file.close()"
   ]
  },
  {
   "cell_type": "code",
   "execution_count": 112,
   "metadata": {},
   "outputs": [],
   "source": [
    "rms_perDay(\"04-09-2023\", 5, 5000)\n",
    "rms_perDay(\"04-09-2023\", 10, 10000)\n",
    "rms_perDay(\"04-09-2023\", 7, 7000)\n",
    "rms_perDay(\"04-09-2023\", 5, 5000)\n",
    "rms_perDay(\"04-09-2023\", 8, 8000)"
   ]
  },
  {
   "cell_type": "markdown",
   "metadata": {},
   "source": [
    "**INSIGHT: This function will create a file which displays itemwise sales in a day which can further help to determine the product that is making the maximum number of sales.**"
   ]
  },
  {
   "cell_type": "code",
   "execution_count": 116,
   "metadata": {},
   "outputs": [],
   "source": [
    "itemwise_sales1 = open(\"itemwise_sales1\", \"w+\")\n",
    "itemwise_sales1.write(f\"ITEM_REFERENCE\\t\\t\\t ITEM_NAME\\t TOTAL_ORDERS \\t TOTAL_SALES\\n\")\n",
    "itemwise_sales1.close()\n",
    "\n",
    "def itemwise_sales1(item_reference, item_name, total_orders, total_sales):\n",
    "    itemwise_sales1 = open(\"itemwise_sales1\", \"a+\")\n",
    "    # itemwise_sales.write(f\"ITEM_REFERENCE\\t\\t\\t ITEM_NAME\\t TOTAL_ORDERS \\t TOTAL_SALES\\n\")\n",
    "    itemwise_sales1.write(f\"{item_reference}\\t\\t\\t\\t{item_name}\\t\\t\\t {total_orders}\\t\\t\\t {total_sales}\\n\")\n",
    "    itemwise_sales1.close()"
   ]
  },
  {
   "cell_type": "code",
   "execution_count": 118,
   "metadata": {},
   "outputs": [],
   "source": [
    "itemwise_sales1(232423, \"Pizza\", 3, 3000)\n",
    "itemwise_sales1(232423, \"Burger\", 2, 2000)\n",
    "itemwise_sales1(232423, \"Pasta\", 4, 3500)\n",
    "itemwise_sales1(232423, \"Sandwich\", 6, 1500)\n",
    "itemwise_sales1(232423, \"Wrap\", 3, 1000)"
   ]
  }
 ],
 "metadata": {
  "kernelspec": {
   "display_name": "Python 3",
   "language": "python",
   "name": "python3"
  },
  "language_info": {
   "codemirror_mode": {
    "name": "ipython",
    "version": 3
   },
   "file_extension": ".py",
   "mimetype": "text/x-python",
   "name": "python",
   "nbconvert_exporter": "python",
   "pygments_lexer": "ipython3",
   "version": "3.9.13"
  },
  "orig_nbformat": 4
 },
 "nbformat": 4,
 "nbformat_minor": 2
}
