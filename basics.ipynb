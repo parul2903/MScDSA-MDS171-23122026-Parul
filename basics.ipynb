{
 "cells": [
  {
   "cell_type": "code",
   "execution_count": 43,
   "metadata": {},
   "outputs": [],
   "source": [
    "listex = [\"one\", \"two\", \"three\"]"
   ]
  },
  {
   "cell_type": "code",
   "execution_count": 33,
   "metadata": {},
   "outputs": [
    {
     "name": "stdout",
     "output_type": "stream",
     "text": [
      "True\n"
     ]
    }
   ],
   "source": [
    "# search an element in a list\n",
    "\n",
    "if \"one\" in listex:\n",
    "    print(True)"
   ]
  },
  {
   "cell_type": "code",
   "execution_count": 34,
   "metadata": {},
   "outputs": [
    {
     "name": "stdout",
     "output_type": "stream",
     "text": [
      "False\n"
     ]
    }
   ],
   "source": [
    "# case sensitive\n",
    "\n",
    "if \"One\" in listex:\n",
    "    print(True)\n",
    "else:\n",
    "    print(False)"
   ]
  },
  {
   "cell_type": "code",
   "execution_count": 35,
   "metadata": {},
   "outputs": [
    {
     "name": "stdout",
     "output_type": "stream",
     "text": [
      "['one', 'TWO', 'three']\n"
     ]
    }
   ],
   "source": [
    "# change the element of list\n",
    "\n",
    "listex[1] = \"TWO\"\n",
    "print(listex)"
   ]
  },
  {
   "cell_type": "code",
   "execution_count": 44,
   "metadata": {},
   "outputs": [
    {
     "name": "stdout",
     "output_type": "stream",
     "text": [
      "['one', 'two', 'three', 'four', 'five', 'six']\n"
     ]
    }
   ],
   "source": [
    "# adding two lists\n",
    "\n",
    "new_list = [\"four\", \"five\", \"six\"]\n",
    "\n",
    "print(listex + new_list)"
   ]
  },
  {
   "cell_type": "code",
   "execution_count": 45,
   "metadata": {},
   "outputs": [],
   "source": [
    "# append function\n",
    "\n",
    "listex.append(\"seven\")"
   ]
  },
  {
   "cell_type": "code",
   "execution_count": 46,
   "metadata": {},
   "outputs": [
    {
     "name": "stdout",
     "output_type": "stream",
     "text": [
      "['one', 'two', 'three', 'seven']\n"
     ]
    }
   ],
   "source": [
    "print(listex)"
   ]
  },
  {
   "cell_type": "code",
   "execution_count": 47,
   "metadata": {},
   "outputs": [
    {
     "data": {
      "text/plain": [
       "'seven'"
      ]
     },
     "execution_count": 47,
     "metadata": {},
     "output_type": "execute_result"
    }
   ],
   "source": [
    "# pop function\n",
    "\n",
    "listex.pop()"
   ]
  },
  {
   "cell_type": "code",
   "execution_count": 48,
   "metadata": {},
   "outputs": [
    {
     "name": "stdout",
     "output_type": "stream",
     "text": [
      "['one', 'two', 'three']\n"
     ]
    }
   ],
   "source": [
    "print(listex)"
   ]
  },
  {
   "cell_type": "code",
   "execution_count": 49,
   "metadata": {},
   "outputs": [
    {
     "name": "stdout",
     "output_type": "stream",
     "text": [
      "['one', 'two']\n"
     ]
    }
   ],
   "source": [
    "# remove function\n",
    "\n",
    "listex.remove(\"three\")\n",
    "print(listex)"
   ]
  },
  {
   "cell_type": "code",
   "execution_count": 51,
   "metadata": {},
   "outputs": [
    {
     "name": "stdout",
     "output_type": "stream",
     "text": [
      "['one', 'two']\n",
      "['two', 'one']\n"
     ]
    }
   ],
   "source": [
    "# sort and reverse\n",
    "\n",
    "listex.sort()\n",
    "print(listex)\n",
    "listex.reverse()\n",
    "\n",
    "print(listex)"
   ]
  },
  {
   "cell_type": "code",
   "execution_count": 53,
   "metadata": {},
   "outputs": [
    {
     "name": "stdout",
     "output_type": "stream",
     "text": [
      "['two', 'one']\n"
     ]
    }
   ],
   "source": [
    "# reverse=True: for descending order\n",
    "\n",
    "listex.sort(reverse = True)\n",
    "print(listex)"
   ]
  },
  {
   "cell_type": "markdown",
   "metadata": {},
   "source": [
    "#### FUNCTIONS"
   ]
  },
  {
   "cell_type": "code",
   "execution_count": 71,
   "metadata": {},
   "outputs": [],
   "source": [
    "def functionName(name):\n",
    "    print(\"First function \\nMy name is\", name)\n",
    "    #print(\"My name is\", name)\n",
    "    return True"
   ]
  },
  {
   "cell_type": "code",
   "execution_count": 73,
   "metadata": {},
   "outputs": [
    {
     "name": "stdout",
     "output_type": "stream",
     "text": [
      "First function \n",
      "My name is PS\n"
     ]
    },
    {
     "data": {
      "text/plain": [
       "True"
      ]
     },
     "execution_count": 73,
     "metadata": {},
     "output_type": "execute_result"
    }
   ],
   "source": [
    "functionName(\"PS\")"
   ]
  },
  {
   "cell_type": "markdown",
   "metadata": {},
   "source": [
    "**FILE HANDLING**"
   ]
  },
  {
   "cell_type": "code",
   "execution_count": 4,
   "metadata": {},
   "outputs": [],
   "source": [
    "# w+: read and write together\n",
    "# opening a file in read mode will not create a file but in write mode, it will itself create it\n",
    "\n",
    "file = open(\"sample.txt\", \"w+\")"
   ]
  },
  {
   "cell_type": "code",
   "execution_count": 7,
   "metadata": {},
   "outputs": [],
   "source": [
    "# a+: append mode: both read and write: will  save the already written contents\n",
    "# w+: will overwrite the already written contents everytime we open file\n",
    "file = open(\"sample.txt\", \"a+\")"
   ]
  },
  {
   "cell_type": "code",
   "execution_count": 12,
   "metadata": {},
   "outputs": [
    {
     "data": {
      "text/plain": [
       "'\\n'"
      ]
     },
     "execution_count": 12,
     "metadata": {},
     "output_type": "execute_result"
    }
   ],
   "source": [
    "# r+: read mode\n",
    "# readline: to read only one line\n",
    "# readlines: to read all the lines in the file\n",
    "\n",
    "file_read = open(\"sample.txt\", \"r+\")\n",
    "file_read.readline()"
   ]
  },
  {
   "cell_type": "markdown",
   "metadata": {},
   "source": [
    "**if we will use readlines() after readline(), the cursor will be placed at the end of the first line so readlines() will read rest of the lines**"
   ]
  },
  {
   "cell_type": "code",
   "execution_count": 13,
   "metadata": {},
   "outputs": [
    {
     "data": {
      "text/plain": [
       "['This is the first line \\n',\n",
       " 'in this file.\\n',\n",
       " 'This is the first line \\n',\n",
       " 'in this file.\\n',\n",
       " 'This is the first line \\n',\n",
       " 'in this file.']"
      ]
     },
     "execution_count": 13,
     "metadata": {},
     "output_type": "execute_result"
    }
   ],
   "source": [
    "file_read.readlines()"
   ]
  },
  {
   "cell_type": "code",
   "execution_count": 9,
   "metadata": {},
   "outputs": [
    {
     "data": {
      "text/plain": [
       "38"
      ]
     },
     "execution_count": 9,
     "metadata": {},
     "output_type": "execute_result"
    }
   ],
   "source": [
    "file.write(\"\\nThis is the first line \\nin this file.\")"
   ]
  },
  {
   "cell_type": "code",
   "execution_count": 10,
   "metadata": {},
   "outputs": [],
   "source": [
    "file.close()"
   ]
  },
  {
   "cell_type": "markdown",
   "metadata": {},
   "source": [
    "**WRITE A FUNCTION, THAT ACCEPTS YOUR DETAILS AND SAVE INTO A FILE**"
   ]
  },
  {
   "cell_type": "code",
   "execution_count": 31,
   "metadata": {},
   "outputs": [],
   "source": [
    "def details_file(file_name, name, register_number):\n",
    "\n",
    "    name = name\n",
    "    register_number = int(register_number)\n",
    "\n",
    "    file = open(file_name, \"a+\")\n",
    "    file.write(f\"Name: {name}, number: {register_number}\\n\")\n",
    "    file.close()\n",
    "    "
   ]
  },
  {
   "cell_type": "code",
   "execution_count": 32,
   "metadata": {},
   "outputs": [],
   "source": [
    "file_name = \"details.txt\"\n",
    "name = \"PS\"\n",
    "register_number = 2312213231\n",
    "\n",
    "ret = details_file(file_name, name, register_number)"
   ]
  },
  {
   "cell_type": "code",
   "execution_count": 33,
   "metadata": {},
   "outputs": [
    {
     "name": "stdout",
     "output_type": "stream",
     "text": [
      "Some error occured\n"
     ]
    }
   ],
   "source": [
    "if ret:\n",
    "    print(\"Your details are saved.\")\n",
    "    print(\"*\"*30)\n",
    "\n",
    "    for line in open(\"detials.txt \").readlines():\n",
    "        print(line)\n",
    "    print(\"*\"*30)\n",
    "\n",
    "else:\n",
    "    print(\"Some error occured\")"
   ]
  },
  {
   "cell_type": "code",
   "execution_count": null,
   "metadata": {},
   "outputs": [],
   "source": [
    "# Data Analysis\n",
    "\n",
    "total_costs = []\n",
    "file_read = open(\"parul.csv\", \"r+\")\n",
    "next(file_read)\n",
    "for line in file_read:\n",
    "    item_str, quantity_str, price_str = line.strip().split(\",\")\n",
    "    total_cost = int(quantity_str) * int(price_str)\n",
    "    total_costs.append(total_cost)\n",
    "\n",
    "for i in range(0,5):\n",
    "    print(\"total_cost(first): \", total_costs[i])\n",
    "\n",
    "for i in range(-10,0):\n",
    "    print(\"total_cost: \", total_costs[i])\n"
   ]
  },
  {
   "cell_type": "code",
   "execution_count": null,
   "metadata": {},
   "outputs": [],
   "source": [
    "file_read = open(\"parul.csv\", \"r+\")\n",
    "next(file_read)\n",
    "item_dict = {}\n",
    "items = []\n",
    "for line in file_read:\n",
    "    item_str, quantity_str, price_str = line.strip().split(\",\")\n",
    "    total_cost = int(quantity_str) * int(price_str)\n",
    "\n",
    "\n",
    "    # for item in item_str:\n",
    "    #     if item == \"quantity\"\n",
    "\n",
    "    for item in item_str:\n",
    "        #if item not in items:\n",
    "        #item_dict[item] += total_cost\n",
    "        item_dict[item] = {\"PRICE\": price_str, \"QUANTITY\": quantity_str, \"TOTAL_COST\": int(quantity_str)*int(price_str), \"MIN_PRICE\": min(total_costs), \"MAX_PRICE\": max(total_costs)}\n",
    "    \n",
    "len(item_dict) "
   ]
  }
 ],
 "metadata": {
  "kernelspec": {
   "display_name": "Python 3",
   "language": "python",
   "name": "python3"
  },
  "language_info": {
   "codemirror_mode": {
    "name": "ipython",
    "version": 3
   },
   "file_extension": ".py",
   "mimetype": "text/x-python",
   "name": "python",
   "nbconvert_exporter": "python",
   "pygments_lexer": "ipython3",
   "version": "3.9.13"
  },
  "orig_nbformat": 4
 },
 "nbformat": 4,
 "nbformat_minor": 2
}
