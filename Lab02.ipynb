{
 "cells": [
  {
   "cell_type": "code",
   "execution_count": 128,
   "metadata": {},
   "outputs": [],
   "source": [
    "# defining a function to collect the name\n",
    "# performing neccessary validations for the mistake that can be made\n",
    "\n",
    "list_names = []\n",
    "def NameQuest():\n",
    "    \n",
    "    while True:\n",
    "        name = str(input())\n",
    "        if name == 'q':\n",
    "            print(\"The program quits\")\n",
    "            return list_names\n",
    "            break\n",
    "        elif name not in list_names:\n",
    "            list_names.append(name)\n",
    "            print(list_names)\n",
    "        else:\n",
    "            print(\"The name already exists\")"
   ]
  },
  {
   "cell_type": "code",
   "execution_count": 129,
   "metadata": {},
   "outputs": [
    {
     "name": "stdout",
     "output_type": "stream",
     "text": [
      "['Parul']\n",
      "The name already exists\n",
      "['Parul', 'Ps']\n",
      "['Parul', 'Ps', '   PP']\n",
      "The program quits\n"
     ]
    },
    {
     "data": {
      "text/plain": [
       "['Parul', 'Ps', '   PP']"
      ]
     },
     "execution_count": 129,
     "metadata": {},
     "output_type": "execute_result"
    }
   ],
   "source": [
    "NameQuest()"
   ]
  },
  {
   "cell_type": "code",
   "execution_count": 130,
   "metadata": {},
   "outputs": [],
   "source": [
    "# mistakes that can be made\n",
    "# removing the extra spaces and creating an updated list of names\n",
    "\n",
    "updated_list = []\n",
    "def edit_mistakes():\n",
    "    for name in list_names:\n",
    "        if name != name.strip():\n",
    "            updated_list.append(name.strip())\n",
    "\n",
    "        else:\n",
    "            updated_list.append(name)\n",
    "\n",
    "    return updated_list"
   ]
  },
  {
   "cell_type": "code",
   "execution_count": 131,
   "metadata": {},
   "outputs": [
    {
     "data": {
      "text/plain": [
       "['Parul', 'Ps', 'PP']"
      ]
     },
     "execution_count": 131,
     "metadata": {},
     "output_type": "execute_result"
    }
   ],
   "source": [
    "edit_mistakes()"
   ]
  },
  {
   "cell_type": "markdown",
   "metadata": {},
   "source": [
    "**DATA ANALYSIS**\n",
    "\n",
    "1) We can sort the list in alphabetical order which will help us to search the names in the list easily."
   ]
  },
  {
   "cell_type": "code",
   "execution_count": 132,
   "metadata": {},
   "outputs": [],
   "source": [
    "# Data Analysis\n",
    "\n",
    "def DataAnalysis(list_names):\n",
    "      updated_list.sort()\n",
    "      return updated_list"
   ]
  },
  {
   "cell_type": "code",
   "execution_count": 133,
   "metadata": {},
   "outputs": [
    {
     "data": {
      "text/plain": [
       "['PP', 'Parul', 'Ps']"
      ]
     },
     "execution_count": 133,
     "metadata": {},
     "output_type": "execute_result"
    }
   ],
   "source": [
    "DataAnalysis(list_names)"
   ]
  },
  {
   "cell_type": "code",
   "execution_count": null,
   "metadata": {},
   "outputs": [],
   "source": []
  }
 ],
 "metadata": {
  "kernelspec": {
   "display_name": "Python 3",
   "language": "python",
   "name": "python3"
  },
  "language_info": {
   "codemirror_mode": {
    "name": "ipython",
    "version": 3
   },
   "file_extension": ".py",
   "mimetype": "text/x-python",
   "name": "python",
   "nbconvert_exporter": "python",
   "pygments_lexer": "ipython3",
   "version": "3.9.13"
  },
  "orig_nbformat": 4
 },
 "nbformat": 4,
 "nbformat_minor": 2
}
