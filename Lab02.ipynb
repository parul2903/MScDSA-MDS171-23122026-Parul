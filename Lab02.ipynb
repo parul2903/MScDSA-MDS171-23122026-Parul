{
 "cells": [
  {
   "cell_type": "code",
   "execution_count": 110,
   "metadata": {},
   "outputs": [],
   "source": [
    "# defining a function to collect the name\n",
    "# performing neccessary validations for the mistake that can be made\n",
    "\n",
    "list_names = []\n",
    "def NameQuest():\n",
    "    \n",
    "    while True:\n",
    "        name = str(input())\n",
    "        if name == 'q':\n",
    "            print(\"The program quits\")\n",
    "            return list_names\n",
    "            break\n",
    "        elif name not in list_names:\n",
    "            list_names.append(name)\n",
    "            print(list_names)\n",
    "        else:\n",
    "            print(\"The name already exists\")"
   ]
  },
  {
   "cell_type": "code",
   "execution_count": 111,
   "metadata": {},
   "outputs": [
    {
     "name": "stdout",
     "output_type": "stream",
     "text": [
      "['parul']\n",
      "['parul', 'ps']\n",
      "['parul', 'ps', 'tanisha']\n",
      "The program quits\n"
     ]
    },
    {
     "data": {
      "text/plain": [
       "['parul', 'ps', 'tanisha']"
      ]
     },
     "execution_count": 111,
     "metadata": {},
     "output_type": "execute_result"
    }
   ],
   "source": [
    "NameQuest()"
   ]
  },
  {
   "cell_type": "code",
   "execution_count": 112,
   "metadata": {},
   "outputs": [],
   "source": [
    "# mistakes\n",
    "\n",
    "updated_list = []\n",
    "def edit_mistakes():\n",
    "    for name in list_names:\n",
    "        if name != name.strip():\n",
    "            updated_list.append(name.strip())\n",
    "\n",
    "    return updated_list"
   ]
  },
  {
   "cell_type": "code",
   "execution_count": 113,
   "metadata": {},
   "outputs": [
    {
     "data": {
      "text/plain": [
       "[]"
      ]
     },
     "execution_count": 113,
     "metadata": {},
     "output_type": "execute_result"
    }
   ],
   "source": [
    "edit_mistakes()"
   ]
  },
  {
   "cell_type": "code",
   "execution_count": 114,
   "metadata": {},
   "outputs": [],
   "source": [
    "# Data Analysis\n",
    "\n",
    "def DataAnalysis(list_names):\n",
    "      updated_list.sort()\n",
    "      return updated_list"
   ]
  },
  {
   "cell_type": "code",
   "execution_count": 115,
   "metadata": {},
   "outputs": [
    {
     "data": {
      "text/plain": [
       "[]"
      ]
     },
     "execution_count": 115,
     "metadata": {},
     "output_type": "execute_result"
    }
   ],
   "source": [
    "DataAnalysis(list_names)"
   ]
  },
  {
   "cell_type": "code",
   "execution_count": null,
   "metadata": {},
   "outputs": [],
   "source": []
  }
 ],
 "metadata": {
  "kernelspec": {
   "display_name": "Python 3",
   "language": "python",
   "name": "python3"
  },
  "language_info": {
   "codemirror_mode": {
    "name": "ipython",
    "version": 3
   },
   "file_extension": ".py",
   "mimetype": "text/x-python",
   "name": "python",
   "nbconvert_exporter": "python",
   "pygments_lexer": "ipython3",
   "version": "3.9.13"
  },
  "orig_nbformat": 4
 },
 "nbformat": 4,
 "nbformat_minor": 2
}
