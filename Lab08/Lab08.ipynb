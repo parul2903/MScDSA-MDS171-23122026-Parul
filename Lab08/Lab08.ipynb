{
 "cells": [
  {
   "cell_type": "markdown",
   "metadata": {},
   "source": [
    "**MATRIX MULTIPLICATION**"
   ]
  },
  {
   "cell_type": "code",
   "execution_count": 101,
   "metadata": {},
   "outputs": [],
   "source": [
    "# This function collects the basic information of the matrix\n",
    "# no. of rows, no. of columns and the values in each row\n",
    "# It returns the matrix dictionary\n",
    "\n",
    "def input_matrix():\n",
    "    \n",
    "    final_matrix = []\n",
    "    r = int(input(\"Enter the number of rows: \"))\n",
    "    c = int(input(\"Enter the number of columns: \"))\n",
    "\n",
    "    for row in range(0, r):\n",
    "        row_values = []\n",
    "        for column in range(0, c):\n",
    "            row_values.append(int(input(\"Enter the values row-wise: \")))\n",
    "        final_matrix.append(row_values)\n",
    "    return final_matrix\n",
    "\n",
    "# This function will take two matrix as parameters and returns a  dictionary with 3 key-value pairs\n",
    "# \"matrix1\", \"matrix2\", \"result_matrix\"\n",
    "\n",
    "final_dict = {}\n",
    "def processs_matrix(matrix1, matrix2):\n",
    "\n",
    "    for i in matrix1:\n",
    "        for j in matrix2:\n",
    "            print(i*j)\n",
    "    result_matrix = result_matrix\n",
    "    final_dict[\"matrix1\"] = matrix1\n",
    "    final_dict[\"matrix2\"] = matrix2\n",
    "    final_dict[\"reult_matrix\"] = result_matrix\n",
    "            \n",
    "    return final_dict\n",
    "\n",
    "# This function will take final_dict as a parameter and save it to a file named filename\n",
    "\n",
    "def display_result(filename, final_dict):\n",
    "    pass\n",
    "        "
   ]
  },
  {
   "cell_type": "code",
   "execution_count": 138,
   "metadata": {},
   "outputs": [],
   "source": [
    "matrix1 = input_matrix()"
   ]
  },
  {
   "cell_type": "code",
   "execution_count": 139,
   "metadata": {},
   "outputs": [],
   "source": [
    "matrix2 = input_matrix()"
   ]
  },
  {
   "cell_type": "code",
   "execution_count": 140,
   "metadata": {},
   "outputs": [
    {
     "data": {
      "text/plain": [
       "[[1, 2, 3], [4, 5, 6]]"
      ]
     },
     "execution_count": 140,
     "metadata": {},
     "output_type": "execute_result"
    }
   ],
   "source": [
    "matrix1"
   ]
  },
  {
   "cell_type": "code",
   "execution_count": 141,
   "metadata": {},
   "outputs": [
    {
     "data": {
      "text/plain": [
       "[[1, 2], [3, 4], [5, 6]]"
      ]
     },
     "execution_count": 141,
     "metadata": {},
     "output_type": "execute_result"
    }
   ],
   "source": [
    "matrix2"
   ]
  },
  {
   "cell_type": "code",
   "execution_count": 144,
   "metadata": {},
   "outputs": [],
   "source": [
    "mul = []\n",
    "for i in range(0, len(matrix1)):\n",
    "    for j in range(0, len(matrix2)):\n",
    "        mul.append(matrix1[i][j]*matrix2[j][0])\n"
   ]
  },
  {
   "cell_type": "code",
   "execution_count": 145,
   "metadata": {},
   "outputs": [
    {
     "data": {
      "text/plain": [
       "[1, 6, 15, 4, 15, 30]"
      ]
     },
     "execution_count": 145,
     "metadata": {},
     "output_type": "execute_result"
    }
   ],
   "source": [
    "mul"
   ]
  },
  {
   "cell_type": "code",
   "execution_count": null,
   "metadata": {},
   "outputs": [],
   "source": [
    "final_dict = {\"matrix1\": [[1,2,3],\n",
    "                          [4,5,6]],\n",
    "              \"matrix2\": [[1,2],\n",
    "                          [3,4],\n",
    "                          [5,6]],\n",
    "              \"result_matrix\": [[a,b],[c,d]]\n",
    "             }"
   ]
  },
  {
   "cell_type": "code",
   "execution_count": 60,
   "metadata": {},
   "outputs": [],
   "source": [
    "row1 = []\n",
    "row2 = []\n",
    "for i in range(0, 6):\n",
    "\n",
    "    row1.append(row_values[i])\n",
    "    row2.append(row_values[i])"
   ]
  },
  {
   "cell_type": "code",
   "execution_count": null,
   "metadata": {},
   "outputs": [],
   "source": []
  }
 ],
 "metadata": {
  "kernelspec": {
   "display_name": "Python 3",
   "language": "python",
   "name": "python3"
  },
  "language_info": {
   "codemirror_mode": {
    "name": "ipython",
    "version": 3
   },
   "file_extension": ".py",
   "mimetype": "text/x-python",
   "name": "python",
   "nbconvert_exporter": "python",
   "pygments_lexer": "ipython3",
   "version": "3.9.13"
  },
  "orig_nbformat": 4
 },
 "nbformat": 4,
 "nbformat_minor": 2
}
